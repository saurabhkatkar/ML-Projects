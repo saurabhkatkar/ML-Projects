{
 "cells": [
  {
   "cell_type": "markdown",
   "id": "f7e974b1",
   "metadata": {},
   "source": [
    "# InstaBot - II"
   ]
  },
  {
   "cell_type": "markdown",
   "id": "5a8a9d35",
   "metadata": {},
   "source": [
    "Import required libraries"
   ]
  },
  {
   "cell_type": "code",
   "execution_count": 46,
   "id": "1cf9d0dc",
   "metadata": {},
   "outputs": [],
   "source": [
    "from selenium import webdriver\n",
    "from webdriver_manager.chrome import ChromeDriverManager\n",
    "from selenium.webdriver.common.by import By\n",
    "from selenium.webdriver.common.keys import Keys\n",
    "from selenium.webdriver.support.ui import WebDriverWait\n",
    "from selenium.webdriver.support import expected_conditions as EC\n",
    "from bs4 import BeautifulSoup\n",
    "import time\n",
    "import numpy as np\n",
    "import pandas as pd\n",
    "from datetime import datetime\n",
    "import matplotlib.pyplot as plt\n"
   ]
  },
  {
   "cell_type": "markdown",
   "id": "566762e8",
   "metadata": {},
   "source": [
    "Open Instagram and Login to User"
   ]
  },
  {
   "cell_type": "code",
   "execution_count": 47,
   "id": "8320fc2a",
   "metadata": {},
   "outputs": [
    {
     "name": "stderr",
     "output_type": "stream",
     "text": [
      "C:\\Users\\saura\\AppData\\Local\\Temp\\ipykernel_20980\\1503906442.py:1: DeprecationWarning: executable_path has been deprecated, please pass in a Service object\n",
      "  driver = webdriver.Chrome(ChromeDriverManager().install())\n"
     ]
    }
   ],
   "source": [
    "driver = webdriver.Chrome(ChromeDriverManager().install())"
   ]
  },
  {
   "cell_type": "code",
   "execution_count": 48,
   "id": "72219ab4",
   "metadata": {},
   "outputs": [],
   "source": [
    "driver.get('https://instagram.com')"
   ]
  },
  {
   "cell_type": "code",
   "execution_count": 49,
   "id": "255fb886",
   "metadata": {},
   "outputs": [],
   "source": [
    "insta_username = ''\n",
    "insta_password = ''"
   ]
  },
  {
   "cell_type": "code",
   "execution_count": 50,
   "id": "0c400e30",
   "metadata": {},
   "outputs": [
    {
     "name": "stdout",
     "output_type": "stream",
     "text": [
      "User is logged in successfully\n"
     ]
    }
   ],
   "source": [
    "wait = WebDriverWait(driver,5)\n",
    "username=wait.until(EC.presence_of_element_located((By.NAME,'username')))\n",
    "username.send_keys(insta_username)\n",
    "time.sleep(2)\n",
    "password = driver.find_element(By.NAME,'password')\n",
    "password.send_keys(insta_password)\n",
    "time.sleep(2)\n",
    "password.submit()\n",
    "time.sleep(5)\n",
    "try:\n",
    "    save_info_btn = wait.until(EC.presence_of_element_located((By.TAG_NAME,'button')))\n",
    "    save_info_btn.click()\n",
    "except:\n",
    "    print(\"Button not found\")\n",
    "try:\n",
    "    count=0\n",
    "    while True:\n",
    "        count+=1\n",
    "        time.sleep(2)\n",
    "        notifications_btns = wait.until(EC.presence_of_all_elements_located((By.TAG_NAME,'button')))\n",
    "        if(notifications_btns[-1].text=='Not Now'):\n",
    "            notifications_btns[-1].click()\n",
    "            break\n",
    "        if(count==5):\n",
    "            break\n",
    "except:\n",
    "    print(\"Element not found\")\n",
    "    \n",
    "print(\"User is logged in successfully\")"
   ]
  },
  {
   "cell_type": "markdown",
   "id": "581209d3",
   "metadata": {},
   "source": [
    "## Question 1"
   ]
  },
  {
   "cell_type": "markdown",
   "id": "59c9c231",
   "metadata": {},
   "source": [
    "1. Now your friend has followed a lot of different food bloggers, he needs to analyse the habits of these bloggers.\n",
    "    - From the list of instagram handles you obtained when you searched ‘food’ in previous project. Open the first 10 handles and find the top 5 which have the highest number of followers\n",
    "    - Now Find the number of posts these handles have done in the previous 3 days.\n",
    "    - Depict this information using a suitable graph."
   ]
  },
  {
   "cell_type": "code",
   "execution_count": 51,
   "id": "c1175162",
   "metadata": {},
   "outputs": [],
   "source": [
    "food_bloggers = [\n",
    "'foodzeee',\n",
    "'foodofgoa',\n",
    "'pablo_thefoodcartel',\n",
    "'foodie_incarnate',\n",
    "'foo_dieonly',\n",
    "'food_lunatic',\n",
    "'food',\n",
    "'food_and_foodies101',\n",
    "'foodiesince96',\n",
    "'foodie_in_delhi',\n",
    "]"
   ]
  },
  {
   "cell_type": "code",
   "execution_count": 52,
   "id": "7f10bffb",
   "metadata": {},
   "outputs": [],
   "source": [
    "followers_list = []\n",
    "posts_list = []\n",
    "current_date = datetime.now().date()\n",
    "\n",
    "for blogger in food_bloggers:\n",
    "    driver.get('https://instagram.com/'+blogger)\n",
    "    time.sleep(5)\n",
    "    links = wait.until(EC.presence_of_all_elements_located((By.CLASS_NAME,\"_ac2a\")))\n",
    "    follwers = int(links[1].get_attribute('title').replace(',',''))\n",
    "    followers_list.append(follwers)\n",
    "    \n",
    "    firstPost = driver.find_element(By.XPATH,'//article/div/div/div/div/a')\n",
    "    firstPost.click()\n",
    "    post_count=0\n",
    "    \n",
    "    while True:\n",
    "        time.sleep(2)\n",
    "        \n",
    "        timestamp = driver.find_element(By.CLASS_NAME,'_aaqe')\n",
    "        post_time = timestamp.get_attribute('datetime')\n",
    "        post_date =  datetime.fromisoformat(post_time[:-1] + '+00:00').date()\n",
    "        diff = current_date - post_date\n",
    "        if(diff.days > 3 ):\n",
    "            break\n",
    "            \n",
    "        post_count+=1\n",
    "        next_btn = driver.find_element(By.CLASS_NAME,\"_aaqg\")\n",
    "        next_btn.click()\n",
    "    posts_list.append(post_count)"
   ]
  },
  {
   "cell_type": "code",
   "execution_count": 53,
   "id": "61c71d4a",
   "metadata": {},
   "outputs": [
    {
     "name": "stdout",
     "output_type": "stream",
     "text": [
      "foodie_incarnate 1474152\n",
      "foodzeee 1354022\n",
      "foodiesince96 319961\n",
      "food 182702\n",
      "food_lunatic 139224\n"
     ]
    }
   ],
   "source": [
    "np_food_bloggers  = np.array(food_bloggers)\n",
    "np_followers_list = np.array(followers_list)\n",
    "np_posts_list = np.array(posts_list)\n",
    "\n",
    "top_handles = []\n",
    "for index in np.argsort(np_followers_list)[::-1][:5]:\n",
    "    top_handles.append(np_food_bloggers[index])\n",
    "    print(np_food_bloggers[index],np_followers_list[index])"
   ]
  },
  {
   "cell_type": "code",
   "execution_count": 54,
   "id": "168cae1d",
   "metadata": {},
   "outputs": [
    {
     "data": {
      "image/png": "[encoded data removed]",
      "text/plain": [
       "<Figure size 640x480 with 1 Axes>"
      ]
     },
     "metadata": {},
     "output_type": "display_data"
    }
   ],
   "source": [
    "plt.bar(np_food_bloggers,np_posts_list)\n",
    "plt.xticks(rotation = 90) \n",
    "plt.show()"
   ]
  },
  {
   "cell_type": "markdown",
   "id": "47d656dc",
   "metadata": {},
   "source": [
    "# Question 2"
   ]
  },
  {
   "cell_type": "markdown",
   "id": "cbf2086d",
   "metadata": {},
   "source": [
    "2. Your friend also needs a list of hashtags that he should use in his posts.\n",
    "    - Open the 5 handles you obtained in the last question, and scrape the content of the first 10 posts of each handle.\n",
    "    - Prepare a list of all words used in all the scraped posts and calculate the frequency of each word.\n",
    "    - Create a csv file with two columns : the word and its frequency\n",
    "    - Now, find the hashtags that were most popular among these bloggers\n",
    "    - Plot a Pie Chart of the top 5 hashtags obtained and the number of times they were used by these bloggers in the scraped posts."
   ]
  },
  {
   "cell_type": "code",
   "execution_count": 55,
   "id": "47f77275",
   "metadata": {},
   "outputs": [],
   "source": [
    "# driver.full_screen()"
   ]
  },
  {
   "cell_type": "code",
   "execution_count": 56,
   "id": "634c0967",
   "metadata": {},
   "outputs": [
    {
     "name": "stdout",
     "output_type": "stream",
     "text": [
      "Likes not available\n",
      "Likes not available\n",
      "Likes not available\n",
      "Likes not available\n",
      "Likes not available\n",
      "Likes not available\n"
     ]
    }
   ],
   "source": [
    "posts_list = []\n",
    "hashtags_list = []\n",
    "handles_likes = {}\n",
    "for handle in top_handles:\n",
    "    driver.get('https://instagram.com/'+handle)\n",
    "    time.sleep(5)\n",
    "    \n",
    "    firstPost = driver.find_element(By.XPATH,'//article/div/div/div/div/a')\n",
    "    firstPost.click()\n",
    "    \n",
    "    \n",
    "    handles_likes[handle] = []\n",
    "    for i in range(10):\n",
    "        \n",
    "        time.sleep(5)\n",
    "        \n",
    "        articlePost = driver.find_elements(By.XPATH,'//article')[1]\n",
    "        articleHTML = BeautifulSoup(articlePost.get_attribute('outerHTML'),'lxml')\n",
    "        \n",
    "        caption_html = articleHTML.find(class_='_a9zs')\n",
    "        caption_text = caption_html.text\n",
    "        \n",
    "        hashtags = [i.string for i in caption_html.find_all('a')]\n",
    "        \n",
    "        posts_list.append(caption_text)\n",
    "        hashtags_list.append(hashtags)\n",
    "        \n",
    "        \n",
    "        \n",
    "        likes_html = articleHTML.find(class_='_ae5o')\n",
    "        try : \n",
    "            likes = int(likes_html.text.split()[0].replace(',',''))\n",
    "            handles_likes[handle].append(likes)\n",
    "        except:\n",
    "            print(\"Likes not available\")\n",
    "        \n",
    "#         print(caption_text,hashtags,likes)\n",
    "        \n",
    "        next_btn = driver.find_element(By.CLASS_NAME,\"_aaqg\")\n",
    "        next_btn.click()"
   ]
  },
  {
   "cell_type": "code",
   "execution_count": 57,
   "id": "b63410a0",
   "metadata": {},
   "outputs": [],
   "source": [
    "words_frequency = {}\n",
    "for post in posts_list:\n",
    "    for word in post.split():\n",
    "        if(str(word) in words_frequency):\n",
    "            words_frequency[word]+=1\n",
    "        else:\n",
    "            words_frequency[word]=1\n"
   ]
  },
  {
   "cell_type": "code",
   "execution_count": 58,
   "id": "be47d2bd",
   "metadata": {},
   "outputs": [],
   "source": [
    "freq = []\n",
    "for i in words_frequency:\n",
    "    freq.append([i,words_frequency[i]])"
   ]
  },
  {
   "cell_type": "code",
   "execution_count": 59,
   "id": "ae643fda",
   "metadata": {},
   "outputs": [],
   "source": [
    "df = pd.DataFrame(freq,columns=['word','frequency'])\n",
    "df.to_csv('word_frequency.csv',index=False)"
   ]
  },
  {
   "cell_type": "code",
   "execution_count": 60,
   "id": "a08ec7f4",
   "metadata": {},
   "outputs": [],
   "source": [
    "hash_freq = {}\n",
    "for hs in hashtags_list:\n",
    "    for h in hs:\n",
    "        if h in hash_freq:\n",
    "            hash_freq[h]+=1\n",
    "        else:\n",
    "            hash_freq[h]=1\n"
   ]
  },
  {
   "cell_type": "code",
   "execution_count": 61,
   "id": "5848cfda",
   "metadata": {},
   "outputs": [
    {
     "name": "stdout",
     "output_type": "stream",
     "text": [
      "#reels 13\n",
      "#foodieincarnate 10\n",
      "#reelitfeelit 10\n",
      "#foodiesince96 10\n",
      "#recipe 9\n"
     ]
    }
   ],
   "source": [
    "hashs = list(hash_freq.keys())\n",
    "hashCnt = list(hash_freq.values())\n",
    "top_hashtags = []\n",
    "top_hashtags_cnt = []\n",
    "for i in np.argsort(hashCnt)[::-1][:5]:\n",
    "    top_hashtags.append(hashs[i])\n",
    "    top_hashtags_cnt.append(hashCnt[i])\n",
    "    print(hashs[i],hashCnt[i])"
   ]
  },
  {
   "cell_type": "code",
   "execution_count": 62,
   "id": "8014fb96",
   "metadata": {},
   "outputs": [
    {
     "data": {
      "image/png": "[encoded data removed]",
      "text/plain": [
       "<Figure size 640x480 with 1 Axes>"
      ]
     },
     "metadata": {},
     "output_type": "display_data"
    }
   ],
   "source": [
    "plt.pie(top_hashtags_cnt,labels=top_hashtags)\n",
    "plt.show()"
   ]
  },
  {
   "cell_type": "markdown",
   "id": "fafd8486",
   "metadata": {},
   "source": [
    "# Question 3"
   ]
  },
  {
   "cell_type": "markdown",
   "id": "1faa9940",
   "metadata": {},
   "source": [
    "3. You need to also calculate average followers : likes ratio for the obtained handles.\n",
    "   Followers : Likes ratio is calculated as follows:\n",
    "    - Find out the likes of the top 10 posts of the 5 handles obtained earlier.\n",
    "    - Calculate the average likes for a handle.\n",
    "    - Divide the average likes obtained from the number of followers of the handle to get the average followers:like ratio of each handle.\n",
    "    - Create a bar graph to depict the above obtained information."
   ]
  },
  {
   "cell_type": "code",
   "execution_count": 63,
   "id": "8d1a60b4",
   "metadata": {},
   "outputs": [],
   "source": [
    "followers_dic={}\n",
    "for i in range(10):\n",
    "    followers_dic[food_bloggers[i]]=followers_list[i]"
   ]
  },
  {
   "cell_type": "code",
   "execution_count": 64,
   "id": "62928ea7",
   "metadata": {},
   "outputs": [],
   "source": [
    "avgLikes={}\n",
    "for i in handles_likes:\n",
    "    if  len(handles_likes[i])==0:\n",
    "        avgLikes[i]=0\n",
    "    else :\n",
    "        avgLikes[i]=sum(handles_likes[i]) / len(handles_likes[i])"
   ]
  },
  {
   "cell_type": "code",
   "execution_count": 65,
   "id": "22c5f88c",
   "metadata": {},
   "outputs": [],
   "source": [
    "ratioLikes={}\n",
    "for i in avgLikes:\n",
    "    ratioLikes[i]=avgLikes[i]/followers_dic[i]"
   ]
  },
  {
   "cell_type": "code",
   "execution_count": 66,
   "id": "004e96c9",
   "metadata": {},
   "outputs": [
    {
     "data": {
      "image/png": "[encoded data removed]",
      "text/plain": [
       "<Figure size 640x480 with 1 Axes>"
      ]
     },
     "metadata": {},
     "output_type": "display_data"
    }
   ],
   "source": [
    "xValues = list(ratioLikes.keys())\n",
    "yValues = list(ratioLikes.values())\n",
    "\n",
    "plt.bar(xValues,yValues)\n",
    "plt.show()"
   ]
  },
  {
   "cell_type": "raw",
   "id": "4732797c",
   "metadata": {},
   "source": []
  },
  {
   "cell_type": "code",
   "execution_count": null,
   "id": "8f4602f6",
   "metadata": {},
   "outputs": [],
   "source": []
  }
 ],
 "metadata": {
  "kernelspec": {
   "display_name": "Python 3 (ipykernel)",
   "language": "python",
   "name": "python3"
  },
  "language_info": {
   "codemirror_mode": {
    "name": "ipython",
    "version": 3
   },
   "file_extension": ".py",
   "mimetype": "text/x-python",
   "name": "python",
   "nbconvert_exporter": "python",
   "pygments_lexer": "ipython3",
   "version": "3.9.13"
  }
 },
 "nbformat": 4,
 "nbformat_minor": 5
}
