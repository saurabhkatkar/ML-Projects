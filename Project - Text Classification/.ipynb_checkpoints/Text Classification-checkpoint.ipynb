{
 "cells": [
  {
   "cell_type": "code",
   "execution_count": 1,
   "id": "5a60ac48",
   "metadata": {},
   "outputs": [],
   "source": [
    "import numpy as np\n",
    "import pandas as pd\n",
    "import os\n",
    "import re"
   ]
  },
  {
   "cell_type": "markdown",
   "id": "c7b5a2c6",
   "metadata": {},
   "source": [
    "Store all 20 Characteristics in a array"
   ]
  },
  {
   "cell_type": "code",
   "execution_count": 2,
   "id": "2c9d74dc",
   "metadata": {},
   "outputs": [],
   "source": [
    "characteristics = [\n",
    "    'alt.atheism',\n",
    "    'comp.graphics',\n",
    "    'comp.os.ms-windows.misc',\n",
    "    'comp.sys.ibm.pc.hardware',\n",
    "    'comp.sys.mac.hardware',\n",
    "    'comp.windows.x',\n",
    "    'misc.forsale',\n",
    "    'rec.autos',\n",
    "    'rec.motorcycles',\n",
    "    'rec.sport.baseball',\n",
    "    'rec.sport.hockey',\n",
    "    'sci.crypt',\n",
    "    'sci.electronics',\n",
    "    'sci.med',\n",
    "    'sci.space',\n",
    "    'soc.religion.christian',\n",
    "    'talk.politics.guns',\n",
    "    'talk.politics.mideast',\n",
    "    'talk.politics.misc',\n",
    "    'talk.religion.misc'\n",
    "]"
   ]
  },
  {
   "cell_type": "markdown",
   "id": "17d88bcc",
   "metadata": {},
   "source": [
    "## Steps to get data from file\n",
    "1. Loop through all Files and Folders\n",
    "2. Get data from file\n",
    "3. Remove same header from file\n",
    "4. Remove all special characters\n",
    "5. Using np.unique method to get unique keywords and their counts from file\n",
    "6. Store them as dictonary as separate row in data array\n",
    "7. Store characteristic as result in Y_data array"
   ]
  },
  {
   "cell_type": "code",
   "execution_count": 3,
   "id": "081d4ff1",
   "metadata": {},
   "outputs": [
    {
     "name": "stdout",
     "output_type": "stream",
     "text": [
      "alt.atheism 1\n",
      "comp.graphics 2\n",
      "comp.os.ms-windows.misc 3\n",
      "comp.sys.ibm.pc.hardware 4\n",
      "comp.sys.mac.hardware 5\n",
      "comp.windows.x 6\n",
      "misc.forsale 7\n",
      "rec.autos 8\n",
      "rec.motorcycles 9\n",
      "rec.sport.baseball 10\n",
      "rec.sport.hockey 11\n",
      "sci.crypt 12\n",
      "sci.electronics 13\n",
      "sci.med 14\n",
      "sci.space 15\n",
      "soc.religion.christian 16\n",
      "talk.politics.guns 17\n",
      "talk.politics.mideast 18\n",
      "talk.politics.misc 19\n",
      "talk.religion.misc 20\n"
     ]
    }
   ],
   "source": [
    "data=[]\n",
    "Y_data = []\n",
    "\n",
    "index=1\n",
    "# Looping through all charchteristics folders\n",
    "for ch in characteristics:\n",
    "    \n",
    "    print(ch,index)\n",
    "    \n",
    "    # Get list of all files in charchteristics folder\n",
    "    current_dir = os.listdir('data/'+ch)\n",
    "    \n",
    "    # Looping through all files\n",
    "    for file_name in current_dir:\n",
    "        \n",
    "#         print(ch,file_name)\n",
    "        \n",
    "        with open(\"data/\"+ch+\"/\"+file_name, encoding = None) as f:\n",
    "            \n",
    "            # Read file and replace all special characters with space\n",
    "            og_str = f.read()\n",
    "            og_str = og_str[og_str.find('\\n\\n'):]\n",
    "            new_str = re.sub('[^a-zA-Z0-9]', ' ', og_str)\n",
    "#             print('new file',new_str[:100])\n",
    "            \n",
    "            \n",
    "            values, counts = np.unique(new_str.split(), return_counts=True)\n",
    "            \n",
    "            val_dic = {}\n",
    "            \n",
    "            for i in range(len(values)):\n",
    "#                 if(counts[i]<3):\n",
    "#                     continue\n",
    "                val_dic[values[i]] = counts[i]\n",
    "            \n",
    "            # Append new string\n",
    "            data.append(val_dic)\n",
    "            Y_data.append(ch)\n",
    "    \n",
    "    index+=1\n",
    "            "
   ]
  },
  {
   "cell_type": "code",
   "execution_count": 4,
   "id": "91362150",
   "metadata": {},
   "outputs": [
    {
     "name": "stdout",
     "output_type": "stream",
     "text": [
      "Total Articles Size : 19997\n"
     ]
    }
   ],
   "source": [
    "print(\"Total Articles Size :\",len(data))"
   ]
  },
  {
   "cell_type": "markdown",
   "id": "83c03f23",
   "metadata": {},
   "source": [
    "Combine all files keywords and add up all counts and store it in global variable"
   ]
  },
  {
   "cell_type": "code",
   "execution_count": 5,
   "id": "c11335d6",
   "metadata": {},
   "outputs": [],
   "source": [
    "total_freq = {}\n",
    "for row in data:\n",
    "    for key in row:\n",
    "        if key in total_freq:\n",
    "            total_freq[key]+=row[key]\n",
    "        else:\n",
    "            total_freq[key]=row[key]"
   ]
  },
  {
   "cell_type": "code",
   "execution_count": 6,
   "id": "0126a164",
   "metadata": {},
   "outputs": [
    {
     "name": "stdout",
     "output_type": "stream",
     "text": [
      "Total No. of Keywords : 194331\n"
     ]
    }
   ],
   "source": [
    "print(\"Total No. of Keywords :\",len(total_freq.keys()))"
   ]
  },
  {
   "cell_type": "markdown",
   "id": "af4198a3",
   "metadata": {},
   "source": [
    "Create numpy arrays for keywords and their counts"
   ]
  },
  {
   "cell_type": "code",
   "execution_count": 7,
   "id": "81bdd4cc",
   "metadata": {},
   "outputs": [],
   "source": [
    "X = np.array(list(total_freq.keys()))\n",
    "Y = np.array(list(total_freq.values()))"
   ]
  },
  {
   "cell_type": "code",
   "execution_count": 8,
   "id": "1c067387",
   "metadata": {},
   "outputs": [],
   "source": [
    "# import nltk\n",
    "# nltk.download('stopwords')"
   ]
  },
  {
   "cell_type": "markdown",
   "id": "6117c3f8",
   "metadata": {},
   "source": [
    "Get stopwords and store it as dictonary to access faster"
   ]
  },
  {
   "cell_type": "code",
   "execution_count": 9,
   "id": "e5ac51eb",
   "metadata": {},
   "outputs": [],
   "source": [
    "from nltk.corpus import stopwords\n",
    "from collections import Counter\n",
    "stop_words = stopwords.words('english')\n",
    "stopwords_dict = Counter(stop_words)"
   ]
  },
  {
   "cell_type": "markdown",
   "id": "bbc27b3f",
   "metadata": {},
   "source": [
    "Check if keyword is not stopword and length of keywords is greater than 2.\n",
    "\n",
    "Filter X and Y array"
   ]
  },
  {
   "cell_type": "code",
   "execution_count": 10,
   "id": "f72aa59d",
   "metadata": {},
   "outputs": [
    {
     "name": "stdout",
     "output_type": "stream",
     "text": [
      "[False  True  True ...  True  True  True]\n"
     ]
    }
   ],
   "source": [
    "X = np.char.lower(X)\n",
    "check_stopwords = []\n",
    "for i in X:\n",
    "    check_stopwords.append(i not in stopwords_dict and len(i) > 2)\n",
    "check_stopwords = np.array(check_stopwords)\n",
    "print(check_stopwords)\n",
    "\n",
    "X = X[check_stopwords]\n",
    "Y = Y[check_stopwords]"
   ]
  },
  {
   "cell_type": "markdown",
   "id": "b4180fa9",
   "metadata": {},
   "source": [
    "Sort Y (counts) in decreasing order.\n",
    "\n",
    "Take first 3000 keywords which occured most."
   ]
  },
  {
   "cell_type": "code",
   "execution_count": 11,
   "id": "c63009d9",
   "metadata": {},
   "outputs": [
    {
     "name": "stdout",
     "output_type": "stream",
     "text": [
      "191514\n"
     ]
    }
   ],
   "source": [
    "maxIndicies = np.argsort(Y)[::-1]\n",
    "print(len(maxIndicies))\n",
    "\n",
    "top_k = 3000\n",
    "most_X = X[maxIndicies[:top_k]]\n",
    "most_Y = Y[maxIndicies[:top_k]]\n",
    "# for i in most_X:\n",
    "#     print(i,len(i))"
   ]
  },
  {
   "cell_type": "markdown",
   "id": "e06e0aa0",
   "metadata": {},
   "source": [
    "Plot line graph to see relationship between Frequency of Words and No. of words"
   ]
  },
  {
   "cell_type": "code",
   "execution_count": 12,
   "id": "e0d3548d",
   "metadata": {},
   "outputs": [
    {
     "data": {
      "image/png": "[encoded data removed]",
      "text/plain": [
       "<Figure size 500x500 with 1 Axes>"
      ]
     },
     "metadata": {},
     "output_type": "display_data"
    }
   ],
   "source": [
    "import seaborn as sns\n",
    "import matplotlib.pyplot as plt\n",
    "plt_y,plt_x = np.unique(most_Y,return_counts=True)\n",
    "sns.relplot(x=plt_x,y=plt_y,kind=\"line\")\n",
    "plt.xlabel('No. of. Words')\n",
    "plt.ylabel('Frequency of word')\n",
    "plt.xticks(rotation=45) \n",
    "# Show the plot\n",
    "plt.show()\n"
   ]
  },
  {
   "cell_type": "markdown",
   "id": "053b300f",
   "metadata": {},
   "source": [
    "Set feature_names and length of features"
   ]
  },
  {
   "cell_type": "code",
   "execution_count": 13,
   "id": "45cf89b0",
   "metadata": {},
   "outputs": [],
   "source": [
    "feature_names = most_X\n",
    "features_size = len(feature_names)"
   ]
  },
  {
   "cell_type": "markdown",
   "id": "a6590071",
   "metadata": {},
   "source": [
    "Intiliaze X arrary with total rows and features as columns"
   ]
  },
  {
   "cell_type": "code",
   "execution_count": 14,
   "id": "4c716aec",
   "metadata": {},
   "outputs": [],
   "source": [
    "X_data = [[0 for j in range(features_size)] for i in range(len(data))]"
   ]
  },
  {
   "cell_type": "markdown",
   "id": "5b31b48c",
   "metadata": {},
   "source": [
    "Loop through data and features and set X array to number of times keyword appered in file"
   ]
  },
  {
   "cell_type": "code",
   "execution_count": 15,
   "id": "78ea04f1",
   "metadata": {},
   "outputs": [],
   "source": [
    "for i in range(len(data)):\n",
    "    row = data[i]\n",
    "    row_arr = []\n",
    "    for j in range(features_size):\n",
    "        key = feature_names[j]\n",
    "        if key in row:            \n",
    "            X_data[i][j] = row[key]"
   ]
  },
  {
   "cell_type": "markdown",
   "id": "f6c7f984",
   "metadata": {},
   "source": [
    "Divide X_data and Y_data to training and testing data"
   ]
  },
  {
   "cell_type": "code",
   "execution_count": 16,
   "id": "b54962c0",
   "metadata": {},
   "outputs": [],
   "source": [
    "from sklearn import model_selection\n",
    "X_train,X_test,Y_train,Y_test = model_selection.train_test_split(X_data,Y_data,random_state = 42)"
   ]
  },
  {
   "cell_type": "markdown",
   "id": "914a6a3e",
   "metadata": {},
   "source": [
    "## Implementation of Multinominal NaiveBayes Algorithm"
   ]
  },
  {
   "cell_type": "code",
   "execution_count": 17,
   "id": "6e1331d3",
   "metadata": {},
   "outputs": [],
   "source": [
    "class NaiveBayesAlg:\n",
    "    \n",
    "#     Function to train on sample data\n",
    "    def fit(self,X_train,Y_train):\n",
    "        \n",
    "#         Convert sample to numpy array\n",
    "        X_train = np.array(X_train)\n",
    "        Y_train = np.array(Y_train)\n",
    "        \n",
    "#         Get characteristics and their counts based on Y_train\n",
    "        characteristics, total_counts = np.unique(Y_train,return_counts=True)\n",
    "        size = len(characteristics)\n",
    "        features_size = len(X_train[0])\n",
    "        \n",
    "#         Initliaze count and prod variable to 2d array with characteristics as row and feature_size as col\n",
    "\n",
    "        count = [[0 for j in range(features_size)] for i in range(size)]\n",
    "        prob = [[0 for j in range(features_size)] for i in range(size)]\n",
    "        \n",
    "#         Loop through Characteristics\n",
    "        for i in range(size): \n",
    "#         Check if Y_train has the characterisitics. This will give us a boolean array\n",
    "            check_charc = (Y_train == characteristics[i])\n",
    "            \n",
    "            print(i+1,\"Counting on\",characteristics[i],\"Charcteristic\")\n",
    "            \n",
    "#             Loop through Features\n",
    "            for j in range(features_size):\n",
    "        \n",
    "#              Get sum of all features columns where Y_train has characheristics\n",
    "                count[i][j] =X_train[check_charc][:,j].sum()\n",
    "            \n",
    "            \n",
    "#        Loop through Characteristics\n",
    "        for i in range(size):\n",
    "            \n",
    "            print(i+1,\"Predicting on\",characteristics[i],\"Charcteristic\")\n",
    "            \n",
    "#             Loop through Features\n",
    "            for j in range(features_size):\n",
    "#                 Calculate Probability with laplace correction using given formula\n",
    "#                 Formula = count of words when Y is characteristic / total count of words when Y is characteristic\n",
    "                prob[i][j] = (count[i][j] + 1) / (sum(count[i]) + features_size)\n",
    "        \n",
    "#         Assign probabilities , characteristics and total_counts\n",
    "        self.prob=np.array(prob)\n",
    "        self.cls=characteristics\n",
    "        self.total_counts = total_counts\n",
    "        \n",
    "#         Get Probability of Row for given class\n",
    "    def probability(self,x,cls):\n",
    "        num_features = len(x)\n",
    "        output = 0\n",
    "        \n",
    "#         Loop through all features\n",
    "        for j in range(num_features):\n",
    "#             Get Probability of characteritics and feature and multiply with count of feature in testing data\n",
    "#             To avoid out of range, take log of multiplication with turns it into addition\n",
    "            current_prob = np.log(self.prob[cls][j])*x[j]\n",
    "            output += current_prob\n",
    "        \n",
    "        return output\n",
    "            \n",
    "#     Get best class for each row\n",
    "    def predictSingle(self,x):\n",
    "#         Initilize best_p and best_class\n",
    "        best_p=-1000\n",
    "        best_class = -1\n",
    "        \n",
    "#         Loop through all charcterisitics\n",
    "        for cls in range(len(self.cls)):\n",
    "#         Get current probability for current characteristic\n",
    "            p_current_class = self.probability(x,cls)\n",
    "            \n",
    "#             Check if current probability is greater than previous, set current probability as best_p\n",
    "            if(best_p < p_current_class):\n",
    "                best_p = p_current_class\n",
    "                best_class = cls\n",
    "                \n",
    "#         Return best_class\n",
    "        return self.cls[best_class]\n",
    "            \n",
    "#     Function to get all predictions of all rows in testing data\n",
    "    def predict(self,X_test):\n",
    "#         Intiliaze  y_pred to 0 for all rows\n",
    "        y_pred = [0 for i in range(len(X_test))]\n",
    "    \n",
    "#         Loop through all rows\n",
    "        for i in range(len(X_test)):\n",
    "#             Printing for debugging\n",
    "            if i%500 == 0:\n",
    "                print(\"Getting Probability for testing row\",i+1,\"of\",len(X_test))\n",
    "            x=X_test[i]\n",
    "            \n",
    "#             Call predictSingle function to get best characteristic\n",
    "            x_class = self.predictSingle(x)\n",
    "    \n",
    "#             Set best charcteristic to y_pred\n",
    "            y_pred[i]=x_class\n",
    "        return y_pred\n",
    "        "
   ]
  },
  {
   "cell_type": "markdown",
   "id": "3e12e00a",
   "metadata": {},
   "source": [
    "Create NaiveBayesAlg Object and call fit and predict function"
   ]
  },
  {
   "cell_type": "code",
   "execution_count": 18,
   "id": "c9ef0027",
   "metadata": {},
   "outputs": [
    {
     "name": "stdout",
     "output_type": "stream",
     "text": [
      "1 Counting on alt.atheism Charcteristic\n",
      "2 Counting on comp.graphics Charcteristic\n",
      "3 Counting on comp.os.ms-windows.misc Charcteristic\n",
      "4 Counting on comp.sys.ibm.pc.hardware Charcteristic\n",
      "5 Counting on comp.sys.mac.hardware Charcteristic\n",
      "6 Counting on comp.windows.x Charcteristic\n",
      "7 Counting on misc.forsale Charcteristic\n",
      "8 Counting on rec.autos Charcteristic\n",
      "9 Counting on rec.motorcycles Charcteristic\n",
      "10 Counting on rec.sport.baseball Charcteristic\n",
      "11 Counting on rec.sport.hockey Charcteristic\n",
      "12 Counting on sci.crypt Charcteristic\n",
      "13 Counting on sci.electronics Charcteristic\n",
      "14 Counting on sci.med Charcteristic\n",
      "15 Counting on sci.space Charcteristic\n",
      "16 Counting on soc.religion.christian Charcteristic\n",
      "17 Counting on talk.politics.guns Charcteristic\n",
      "18 Counting on talk.politics.mideast Charcteristic\n",
      "19 Counting on talk.politics.misc Charcteristic\n",
      "20 Counting on talk.religion.misc Charcteristic\n",
      "1 Predicting on alt.atheism Charcteristic\n",
      "2 Predicting on comp.graphics Charcteristic\n",
      "3 Predicting on comp.os.ms-windows.misc Charcteristic\n",
      "4 Predicting on comp.sys.ibm.pc.hardware Charcteristic\n",
      "5 Predicting on comp.sys.mac.hardware Charcteristic\n",
      "6 Predicting on comp.windows.x Charcteristic\n",
      "7 Predicting on misc.forsale Charcteristic\n",
      "8 Predicting on rec.autos Charcteristic\n",
      "9 Predicting on rec.motorcycles Charcteristic\n",
      "10 Predicting on rec.sport.baseball Charcteristic\n",
      "11 Predicting on rec.sport.hockey Charcteristic\n",
      "12 Predicting on sci.crypt Charcteristic\n",
      "13 Predicting on sci.electronics Charcteristic\n",
      "14 Predicting on sci.med Charcteristic\n",
      "15 Predicting on sci.space Charcteristic\n",
      "16 Predicting on soc.religion.christian Charcteristic\n",
      "17 Predicting on talk.politics.guns Charcteristic\n",
      "18 Predicting on talk.politics.mideast Charcteristic\n",
      "19 Predicting on talk.politics.misc Charcteristic\n",
      "20 Predicting on talk.religion.misc Charcteristic\n"
     ]
    }
   ],
   "source": [
    "alg = NaiveBayesAlg()\n",
    "alg.fit(X_train,Y_train)"
   ]
  },
  {
   "cell_type": "code",
   "execution_count": 19,
   "id": "9bc65d4d",
   "metadata": {},
   "outputs": [
    {
     "name": "stdout",
     "output_type": "stream",
     "text": [
      "Getting Probability for testing row 1 of 5000\n",
      "Getting Probability for testing row 501 of 5000\n",
      "Getting Probability for testing row 1001 of 5000\n",
      "Getting Probability for testing row 1501 of 5000\n",
      "Getting Probability for testing row 2001 of 5000\n",
      "Getting Probability for testing row 2501 of 5000\n",
      "Getting Probability for testing row 3001 of 5000\n",
      "Getting Probability for testing row 3501 of 5000\n",
      "Getting Probability for testing row 4001 of 5000\n",
      "Getting Probability for testing row 4501 of 5000\n"
     ]
    }
   ],
   "source": [
    "Y_predict = alg.predict(X_test)"
   ]
  },
  {
   "cell_type": "code",
   "execution_count": 20,
   "id": "96cf004c",
   "metadata": {},
   "outputs": [
    {
     "name": "stdout",
     "output_type": "stream",
     "text": [
      "Classification Report\n",
      "                          precision    recall  f1-score   support\n",
      "\n",
      "             alt.atheism       0.53      0.49      0.50       237\n",
      "           comp.graphics       0.63      0.53      0.58       237\n",
      " comp.os.ms-windows.misc       0.61      0.59      0.60       271\n",
      "comp.sys.ibm.pc.hardware       0.57      0.52      0.55       247\n",
      "   comp.sys.mac.hardware       0.67      0.53      0.59       253\n",
      "          comp.windows.x       0.75      0.59      0.67       237\n",
      "            misc.forsale       0.68      0.76      0.72       247\n",
      "               rec.autos       0.70      0.69      0.70       254\n",
      "         rec.motorcycles       0.74      0.81      0.78       259\n",
      "      rec.sport.baseball       0.76      0.69      0.72       244\n",
      "        rec.sport.hockey       0.88      0.76      0.82       251\n",
      "               sci.crypt       0.80      0.63      0.71       242\n",
      "         sci.electronics       0.63      0.58      0.60       269\n",
      "                 sci.med       0.78      0.67      0.72       256\n",
      "               sci.space       0.82      0.65      0.72       262\n",
      "  soc.religion.christian       0.68      0.59      0.64       260\n",
      "      talk.politics.guns       0.70      0.59      0.64       253\n",
      "   talk.politics.mideast       0.73      0.42      0.53       251\n",
      "      talk.politics.misc       0.56      0.37      0.44       242\n",
      "      talk.religion.misc       0.14      0.51      0.22       228\n",
      "\n",
      "                accuracy                           0.60      5000\n",
      "               macro avg       0.67      0.60      0.62      5000\n",
      "            weighted avg       0.67      0.60      0.62      5000\n",
      "\n",
      "Confusion Matrix\n",
      "[[115   0   1   0   0   0   1   3   4   2   0   3   1   4   3  11   3   5\n",
      "    3  78]\n",
      " [  1 126  23   9   5  11   8   3   2   2   2   3   9   6   4   2   1   0\n",
      "    0  20]\n",
      " [  5   7 159  21  13   9   7   4   2   2   0   4   4   1   4   4   1   1\n",
      "    2  21]\n",
      " [  1   5  21 129  26   5  15   3   0   0   0   2  17   2   0   0   0   0\n",
      "    1  20]\n",
      " [  1   8   7  38 133   7  13   4   5   1   0   1  17   3   0   0   0   0\n",
      "    1  14]\n",
      " [  2  18  29   1   1 141   3   1   4   0   0   3   3   1   1   0   0   0\n",
      "    3  26]\n",
      " [  3   1   5   7   6   4 188   9   4   0   3   1   2   2   0   3   0   1\n",
      "    1   7]\n",
      " [  1   0   1   0   4   1  11 175  13   2   0   2  11   4   4   1   0   0\n",
      "    2  22]\n",
      " [  2   3   0   0   0   0   6   8 211   4   0   1   2   1   0   1   2   0\n",
      "    5  13]\n",
      " [  3   4   1   1   0   1   7   3   5 168  14   0   3   1   0   0   3   2\n",
      "    0  28]\n",
      " [  2   0   0   1   0   0   0   2   3  21 192   0   0   0   1   2   0   0\n",
      "    0  27]\n",
      " [  1   3   2   2   3   3   1   0   3   2   1 153   1   3   0   0   4   0\n",
      "    7  53]\n",
      " [  0   7   6  17   7   1  10  14   6   0   0   5 155   2   6   0   0   1\n",
      "    0  32]\n",
      " [  3   7   2   0   0   2   0   2   4   2   0   2   8 172   2   5   2   1\n",
      "    2  40]\n",
      " [  3   8   0   0   1   0   2   8   4   5   0   1   4   3 169   2   2   0\n",
      "    6  44]\n",
      " [  5   0   1   0   0   0   2   1   3   3   0   0   6   4   2 154   2   7\n",
      "    2  68]\n",
      " [  2   0   0   0   0   0   3   3   4   2   2   1   1   4   1   3 149   5\n",
      "   15  58]\n",
      " [  9   2   0   0   0   2   0   3   2   0   1   6   1   2   2   9   2 105\n",
      "   12  93]\n",
      " [  8   1   0   0   0   0   0   3   2   5   2   3   0   4   6   9  21  12\n",
      "   89  77]\n",
      " [ 52   0   1   0   0   0   0   0   4   0   0   1   0   2   2  19  20   3\n",
      "    7 117]]\n",
      "\n",
      "Accuracy Score\n",
      "60.0%\n"
     ]
    }
   ],
   "source": [
    "# Various metrics for understanding how well our model has performed.\n",
    "from sklearn.metrics import classification_report, confusion_matrix, accuracy_score\n",
    "\n",
    "print(\"Classification Report\")\n",
    "print(classification_report(Y_test, Y_predict))\n",
    "print(\"Confusion Matrix\")\n",
    "print(confusion_matrix(Y_test, Y_predict))\n",
    "print()\n",
    "print(\"Accuracy Score\")\n",
    "print(accuracy_score(Y_test, Y_predict) * 100, \"%\", sep=\"\")"
   ]
  },
  {
   "cell_type": "code",
   "execution_count": null,
   "id": "1c0abaae",
   "metadata": {},
   "outputs": [],
   "source": []
  },
  {
   "cell_type": "code",
   "execution_count": null,
   "id": "2bcf4a5f",
   "metadata": {},
   "outputs": [],
   "source": []
  },
  {
   "cell_type": "markdown",
   "id": "5a49fb48",
   "metadata": {},
   "source": [
    "## Inbuilt Implementation Of Naive Bayes"
   ]
  },
  {
   "cell_type": "code",
   "execution_count": 21,
   "id": "cba1797c",
   "metadata": {},
   "outputs": [
    {
     "data": {
      "text/plain": [
       "MultinomialNB()"
      ]
     },
     "execution_count": 21,
     "metadata": {},
     "output_type": "execute_result"
    }
   ],
   "source": [
    "from sklearn.naive_bayes import MultinomialNB\n",
    "clf = MultinomialNB()\n",
    "clf.fit(X_train,Y_train)"
   ]
  },
  {
   "cell_type": "code",
   "execution_count": 22,
   "id": "89726c24",
   "metadata": {},
   "outputs": [],
   "source": [
    "Y_pred_clf = clf.predict(X_test)"
   ]
  },
  {
   "cell_type": "code",
   "execution_count": 23,
   "id": "c3591d0c",
   "metadata": {},
   "outputs": [
    {
     "name": "stdout",
     "output_type": "stream",
     "text": [
      "Classification Report\n",
      "                          precision    recall  f1-score   support\n",
      "\n",
      "             alt.atheism       0.58      0.65      0.61       237\n",
      "           comp.graphics       0.63      0.59      0.61       237\n",
      " comp.os.ms-windows.misc       0.63      0.64      0.63       271\n",
      "comp.sys.ibm.pc.hardware       0.59      0.57      0.58       247\n",
      "   comp.sys.mac.hardware       0.67      0.56      0.61       253\n",
      "          comp.windows.x       0.77      0.68      0.72       237\n",
      "            misc.forsale       0.68      0.79      0.73       247\n",
      "               rec.autos       0.71      0.77      0.74       254\n",
      "         rec.motorcycles       0.74      0.85      0.79       259\n",
      "      rec.sport.baseball       0.78      0.80      0.79       244\n",
      "        rec.sport.hockey       0.89      0.87      0.88       251\n",
      "               sci.crypt       0.83      0.81      0.82       242\n",
      "         sci.electronics       0.66      0.69      0.67       269\n",
      "                 sci.med       0.78      0.78      0.78       256\n",
      "               sci.space       0.83      0.77      0.80       262\n",
      "  soc.religion.christian       0.69      0.82      0.75       260\n",
      "      talk.politics.guns       0.70      0.77      0.74       253\n",
      "   talk.politics.mideast       0.81      0.71      0.76       251\n",
      "      talk.politics.misc       0.57      0.53      0.55       242\n",
      "      talk.religion.misc       0.44      0.32      0.37       228\n",
      "\n",
      "                accuracy                           0.70      5000\n",
      "               macro avg       0.70      0.70      0.70      5000\n",
      "            weighted avg       0.70      0.70      0.70      5000\n",
      "\n",
      "Confusion Matrix\n",
      "[[154   1   1   0   0   0   1   3   4   2   0   3   1   4   4  17   3   6\n",
      "    5  28]\n",
      " [  2 139  23  10   8  11   8   3   2   2   2   4   9   6   4   2   1   0\n",
      "    0   1]\n",
      " [  0   9 174  22  13   9   7   4   2   2   0   4   5   1   4   4   1   1\n",
      "    2   7]\n",
      " [  1   6  22 141  28   6  16   4   0   0   0   2  17   3   0   0   0   0\n",
      "    1   0]\n",
      " [  0   8   7  39 142   7  14   4   5   1   0   1  18   5   0   0   0   0\n",
      "    1   1]\n",
      " [  0  20  31   1   1 161   3   1   4   0   0   3   3   1   1   0   0   0\n",
      "    3   4]\n",
      " [  1   1   5   7   6   4 195   9   4   0   3   1   2   2   0   3   0   1\n",
      "    1   2]\n",
      " [  1   0   1   0   4   1  11 195  14   2   0   2  11   4   4   1   0   0\n",
      "    2   1]\n",
      " [  2   4   0   0   0   0   6  10 221   4   0   1   2   1   0   1   2   0\n",
      "    5   0]\n",
      " [  1   4   1   1   0   1   7   3   5 195  15   0   3   1   0   0   3   2\n",
      "    0   2]\n",
      " [  0   0   0   1   0   0   0   2   3  21 219   0   0   0   1   2   0   0\n",
      "    0   2]\n",
      " [  1   4   2   2   3   3   1   0   3   2   1 195   4   3   0   0   6   0\n",
      "    9   3]\n",
      " [  0   7   7  17   7   1  10  14   6   0   0   5 185   2   6   0   0   1\n",
      "    0   1]\n",
      " [  7   7   2   0   0   2   0   2   5   2   0   2   9 199   3   6   3   1\n",
      "    2   4]\n",
      " [  3   9   0   0   1   0   2   8   4   5   0   1   4   3 203   2   2   0\n",
      "   11   4]\n",
      " [  9   0   1   0   0   0   2   1   3   4   0   1   6   5   2 214   2   7\n",
      "    3   0]\n",
      " [  1   0   0   0   0   0   3   3   4   2   2   1   1   5   1   3 196   5\n",
      "   17   9]\n",
      " [ 13   2   0   0   0   2   0   3   2   0   1   6   1   2   2  12   2 178\n",
      "   20   5]\n",
      " [  7   1   0   0   0   0   0   3   2   5   2   3   0   4   7  10  35  14\n",
      "  129  20]\n",
      " [ 64   0   1   0   0   0   0   1   4   0   0   1   0   3   3  35  23   4\n",
      "   15  74]]\n",
      "\n",
      "Accuracy Score\n",
      "70.17999999999999%\n"
     ]
    }
   ],
   "source": [
    "# Various metrics for understanding how well our model has performed.\n",
    "from sklearn.metrics import classification_report, confusion_matrix, accuracy_score\n",
    "\n",
    "print(\"Classification Report\")\n",
    "print(classification_report(Y_test, Y_pred_clf))\n",
    "print(\"Confusion Matrix\")\n",
    "print(confusion_matrix(Y_test, Y_pred_clf))\n",
    "print()\n",
    "print(\"Accuracy Score\")\n",
    "print(accuracy_score(Y_test, Y_pred_clf) * 100, \"%\", sep=\"\")"
   ]
  },
  {
   "cell_type": "code",
   "execution_count": null,
   "id": "1d53c389",
   "metadata": {},
   "outputs": [],
   "source": []
  },
  {
   "cell_type": "code",
   "execution_count": null,
   "id": "ca9b0146",
   "metadata": {},
   "outputs": [],
   "source": []
  }
 ],
 "metadata": {
  "kernelspec": {
   "display_name": "Python 3 (ipykernel)",
   "language": "python",
   "name": "python3"
  },
  "language_info": {
   "codemirror_mode": {
    "name": "ipython",
    "version": 3
   },
   "file_extension": ".py",
   "mimetype": "text/x-python",
   "name": "python",
   "nbconvert_exporter": "python",
   "pygments_lexer": "ipython3",
   "version": "3.9.13"
  }
 },
 "nbformat": 4,
 "nbformat_minor": 5
}
