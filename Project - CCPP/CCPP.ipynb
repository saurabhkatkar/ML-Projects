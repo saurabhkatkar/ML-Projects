{
 "cells": [
  {
   "cell_type": "markdown",
   "id": "a68b37f8",
   "metadata": {},
   "source": [
    "## Gradient Descent - Combined Cycle Power Plant"
   ]
  },
  {
   "cell_type": "code",
   "execution_count": 167,
   "id": "325388ca",
   "metadata": {},
   "outputs": [],
   "source": [
    "import numpy as np"
   ]
  },
  {
   "cell_type": "code",
   "execution_count": 168,
   "id": "a6270e65",
   "metadata": {},
   "outputs": [],
   "source": [
    "training_data = np.genfromtxt(\"train.csv\",delimiter=\",\")\n",
    "testing_data = np.genfromtxt(\"test.csv\",delimiter=\",\")"
   ]
  },
  {
   "cell_type": "code",
   "execution_count": 169,
   "id": "7b31ca77",
   "metadata": {},
   "outputs": [],
   "source": [
    "X = training_data[:,:-1]\n",
    "Y = training_data[:,-1]\n",
    "X_test = testing_data"
   ]
  },
  {
   "cell_type": "code",
   "execution_count": 170,
   "id": "530bc2ec",
   "metadata": {},
   "outputs": [],
   "source": [
    "from sklearn.preprocessing import MinMaxScaler\n",
    "sc=MinMaxScaler()\n",
    "X_transform=sc.fit_transform(X)\n",
    "X_test_transform = sc.transform(X_test)"
   ]
  },
  {
   "cell_type": "code",
   "execution_count": 171,
   "id": "93ebe787",
   "metadata": {},
   "outputs": [],
   "source": [
    "# This function finds the new cost after each optimisation.\n",
    "def cost(points, Y, m):\n",
    "    rows , features = points.shape\n",
    "    total_cost = 0\n",
    "    for i in range(rows):\n",
    "        mx = 0\n",
    "        for j in range(features):\n",
    "            x = points[i, j]\n",
    "            mx += m[j]*x\n",
    "            \n",
    "        mx+=m[features]\n",
    "        \n",
    "        y = Y[i]\n",
    "        \n",
    "        \n",
    "        total_cost += (1/rows)*((y - mx)**2)\n",
    "    return total_cost"
   ]
  },
  {
   "cell_type": "code",
   "execution_count": 172,
   "id": "017f2fa5",
   "metadata": {},
   "outputs": [],
   "source": [
    "# This function finds the new gradient at each step\n",
    "def step_gradient(points, Y, learning_rate, m ):\n",
    "    rows , features = points.shape\n",
    "    m_slope = [ 0 for i in range(features+1)]\n",
    "    \n",
    "    for i in range(rows):\n",
    "        mx = 0\n",
    "        for j in range(features):\n",
    "            x = points[i, j]\n",
    "            mx += m[j]*x\n",
    "            \n",
    "        mx+=m[features]\n",
    "        \n",
    "        y = Y[i]\n",
    "        \n",
    "        for j in range(features):\n",
    "            x=points[i,j]\n",
    "            m_slope[j] += (-2/rows)* (y - mx)*x\n",
    "            \n",
    "        m_slope[features] += (-2/rows)* (y - mx)\n",
    "    \n",
    "    new_m = [ 0 for i in range(features+1)]\n",
    "    for i in range(features+1):\n",
    "        new_m[i] = m[i] - learning_rate * m_slope[i]\n",
    "    \n",
    "    return new_m"
   ]
  },
  {
   "cell_type": "code",
   "execution_count": 173,
   "id": "a1bf4241",
   "metadata": {},
   "outputs": [],
   "source": [
    "# The Gradient Descent Function\n",
    "def gd(points, Y, learning_rate, num_iterations):\n",
    "    rows , features = points.shape\n",
    "    m = [0 for i in range(features+1)]       # Intial random value taken as 0\n",
    "    \n",
    "    for i in range(num_iterations):\n",
    "        m = step_gradient(points, Y, learning_rate, m )\n",
    "#         print(i, \" Cost: \", cost(points, Y, m))\n",
    "    return m"
   ]
  },
  {
   "cell_type": "code",
   "execution_count": 174,
   "id": "7176e397",
   "metadata": {},
   "outputs": [],
   "source": [
    "def run(training_data, Y,learning_rate,num_iterations):\n",
    "    m = gd(training_data, Y,learning_rate, num_iterations)\n",
    "    intercept = m[-1]\n",
    "    coeff = m[:-1]\n",
    "    return intercept,coeff"
   ]
  },
  {
   "cell_type": "code",
   "execution_count": 175,
   "id": "5bd73f82",
   "metadata": {},
   "outputs": [
    {
     "name": "stdout",
     "output_type": "stream",
     "text": [
      "498.1057608886754 [-61.326919317978536, -16.45309670760651, 5.4124127764521415, -9.025462089978594]\n"
     ]
    }
   ],
   "source": [
    "learning_rate = 0.4455\n",
    "num_iterations = 1000\n",
    "# print(X_transform.shape)\n",
    "intercept,coeff = run(X_transform,Y,learning_rate,num_iterations)\n",
    "\n",
    "print(intercept,coeff)"
   ]
  },
  {
   "cell_type": "code",
   "execution_count": 176,
   "id": "67170752",
   "metadata": {},
   "outputs": [],
   "source": [
    "def predict(final_m, final_c, testing_data):\n",
    "    y_pred = []\n",
    "    rows , features = testing_data.shape\n",
    "    \n",
    "    for i in range(rows):\n",
    "        mx=0\n",
    "        for j in range(features):\n",
    "            mx+=final_m[j]*testing_data[i][j]\n",
    "        ans = mx + final_c\n",
    "        y_pred.append(ans)\n",
    "    return y_pred"
   ]
  },
  {
   "cell_type": "code",
   "execution_count": 177,
   "id": "82ec419b",
   "metadata": {},
   "outputs": [],
   "source": [
    "y_predict = predict(coeff,intercept,X_test_transform)"
   ]
  },
  {
   "cell_type": "code",
   "execution_count": 178,
   "id": "0201600e",
   "metadata": {},
   "outputs": [],
   "source": [
    "np.savetxt('Predictions.csv',y_predict)"
   ]
  },
  {
   "cell_type": "code",
   "execution_count": 179,
   "id": "b0177cf8",
   "metadata": {},
   "outputs": [],
   "source": [
    "# y_predict"
   ]
  },
  {
   "cell_type": "markdown",
   "id": "71184c7f",
   "metadata": {},
   "source": [
    "# Fitting the data with SkLearn"
   ]
  },
  {
   "cell_type": "code",
   "execution_count": 180,
   "id": "c9277159",
   "metadata": {},
   "outputs": [
    {
     "data": {
      "text/plain": [
       "(502.97364478554374,\n",
       " array([-67.70764164, -12.75694479,   2.369539  , -11.94849742]))"
      ]
     },
     "execution_count": 180,
     "metadata": {},
     "output_type": "execute_result"
    }
   ],
   "source": [
    "from sklearn.linear_model import LinearRegression\n",
    "lin_reg = LinearRegression()\n",
    "lin_reg.fit(X_transform, Y)\n",
    "lin_reg.intercept_, lin_reg.coef_"
   ]
  },
  {
   "cell_type": "code",
   "execution_count": 181,
   "id": "85e976d9",
   "metadata": {},
   "outputs": [
    {
     "data": {
      "text/plain": [
       "array([469.95711113, 471.76632733, 433.85647002, ..., 439.13871988,\n",
       "       450.65930697, 447.27281902])"
      ]
     },
     "execution_count": 181,
     "metadata": {},
     "output_type": "execute_result"
    }
   ],
   "source": [
    "lin_reg.predict(X_test_transform)"
   ]
  },
  {
   "cell_type": "code",
   "execution_count": null,
   "id": "61bf6ab0",
   "metadata": {},
   "outputs": [],
   "source": []
  },
  {
   "cell_type": "code",
   "execution_count": null,
   "id": "d80f63d8",
   "metadata": {},
   "outputs": [],
   "source": []
  }
 ],
 "metadata": {
  "kernelspec": {
   "display_name": "Python 3 (ipykernel)",
   "language": "python",
   "name": "python3"
  },
  "language_info": {
   "codemirror_mode": {
    "name": "ipython",
    "version": 3
   },
   "file_extension": ".py",
   "mimetype": "text/x-python",
   "name": "python",
   "nbconvert_exporter": "python",
   "pygments_lexer": "ipython3",
   "version": "3.9.13"
  }
 },
 "nbformat": 4,
 "nbformat_minor": 5
}
