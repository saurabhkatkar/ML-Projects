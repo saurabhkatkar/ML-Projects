{
 "cells": [
  {
   "cell_type": "markdown",
   "id": "45a36714",
   "metadata": {},
   "source": [
    "## Gradient Descent - Combined Cycle Power Plant"
   ]
  },
  {
   "cell_type": "code",
   "execution_count": 1,
   "id": "627b3c99",
   "metadata": {},
   "outputs": [],
   "source": [
    "import numpy as np"
   ]
  },
  {
   "cell_type": "code",
   "execution_count": 2,
   "id": "7b1701c7",
   "metadata": {},
   "outputs": [],
   "source": [
    "training_data = np.genfromtxt(\"train.csv\",delimiter=\",\")\n",
    "testing_data = np.genfromtxt(\"test.csv\",delimiter=\",\")"
   ]
  },
  {
   "cell_type": "code",
   "execution_count": 11,
   "id": "18e837d5",
   "metadata": {},
   "outputs": [
    {
     "data": {
      "text/plain": [
       "(array([[   8.58,   38.38, 1021.03,   84.37],\n",
       "        [  21.79,   58.2 , 1017.21,   66.74],\n",
       "        [  16.64,   48.92, 1011.55,   78.76],\n",
       "        ...,\n",
       "        [  29.8 ,   69.34, 1009.36,   64.74],\n",
       "        [  16.37,   54.3 , 1017.94,   63.63],\n",
       "        [  30.11,   62.04, 1010.69,   47.96]]),\n",
       " array([482.26, 446.94, 452.56, ..., 437.65, 459.97, 444.42]))"
      ]
     },
     "execution_count": 11,
     "metadata": {},
     "output_type": "execute_result"
    }
   ],
   "source": [
    "X = training_data[:,:-1]\n",
    "Y = training_data[:,-1]\n",
    "X_test = testing_data"
   ]
  },
  {
   "cell_type": "code",
   "execution_count": 4,
   "id": "e5436c9f",
   "metadata": {},
   "outputs": [],
   "source": [
    "from sklearn.preprocessing import StandardScaler\n",
    "sc=StandardScaler()\n",
    "X_transform=sc.fit_transform(X)\n",
    "X_test_transform = sc.transform(X_test)"
   ]
  },
  {
   "cell_type": "code",
   "execution_count": 14,
   "id": "eb827d3e",
   "metadata": {},
   "outputs": [],
   "source": [
    "# This function finds the new cost after each optimisation.\n",
    "def cost(points, m):\n",
    "    rows , features = points.shape\n",
    "    total_cost = 0\n",
    "    for i in range(rows):\n",
    "        mx = 0\n",
    "        for j in range(features-1):\n",
    "            x = points[i, j]\n",
    "            mx += m[j]*x\n",
    "            \n",
    "        mx+=m[features-1]\n",
    "        \n",
    "        y = points[i, features-1]\n",
    "        \n",
    "        \n",
    "        total_cost += (1/rows)*((y - mx)**2)\n",
    "    return total_cost"
   ]
  },
  {
   "cell_type": "code",
   "execution_count": 5,
   "id": "d2cb9a7d",
   "metadata": {},
   "outputs": [],
   "source": [
    "# This function finds the new gradient at each step\n",
    "def step_gradient(points, learning_rate, m ):\n",
    "    rows , features = points.shape\n",
    "    m_slope = [ 0 for i in range(features)]\n",
    "    \n",
    "    for i in range(rows):\n",
    "        mx = 0\n",
    "        for j in range(features-1):\n",
    "            x = points[i, j]\n",
    "            mx += m[j]*x\n",
    "            \n",
    "        mx+=m[features-1]\n",
    "        \n",
    "        y = points[i, features-1]\n",
    "        \n",
    "        for j in range(features-1):\n",
    "            x=points[i,j]\n",
    "            m_slope[j] += (-2/rows)* (y - mx)*x\n",
    "            \n",
    "        m_slope[features-1] += (-2/rows)* (y - mx)\n",
    "    \n",
    "    new_m = [ 0 for i in range(features)]\n",
    "    for i in range(features):\n",
    "        new_m[i] = m[i] - learning_rate * m_slope[i]\n",
    "    \n",
    "    return new_m"
   ]
  },
  {
   "cell_type": "code",
   "execution_count": 32,
   "id": "4ce9393b",
   "metadata": {},
   "outputs": [],
   "source": [
    "# The Gradient Descent Function\n",
    "def gd(points, learning_rate, num_iterations):\n",
    "    rows , features = points.shape\n",
    "    m = [0 for i in range(features)]       # Intial random value taken as 0\n",
    "    \n",
    "    for i in range(num_iterations):\n",
    "        m = step_gradient(points, learning_rate, m )\n",
    "#         print(i, \" Cost: \", cost(points, m))\n",
    "    return m"
   ]
  },
  {
   "cell_type": "code",
   "execution_count": 33,
   "id": "96b26719",
   "metadata": {},
   "outputs": [],
   "source": [
    "def run(training_data,learning_rate,num_iterations):\n",
    "    m = gd(training_data, learning_rate, num_iterations)\n",
    "    intercept = m[-1]\n",
    "    coeff = m[:-1]\n",
    "    return intercept,coeff"
   ]
  },
  {
   "cell_type": "code",
   "execution_count": 34,
   "id": "54050f99",
   "metadata": {},
   "outputs": [
    {
     "name": "stdout",
     "output_type": "stream",
     "text": [
      "0.0004338949153937402 [-0.009062195937240178, -0.004475104086705936, 0.44562440606069503, 0.04568495778504347]\n"
     ]
    }
   ],
   "source": [
    "learning_rate = 0.0000008\n",
    "num_iterations = 100\n",
    "\n",
    "intercept,coeff = run(training_data,learning_rate,num_iterations)\n",
    "\n",
    "print(intercept,coeff)"
   ]
  },
  {
   "cell_type": "code",
   "execution_count": 35,
   "id": "4d6f156d",
   "metadata": {},
   "outputs": [],
   "source": [
    "def predict(final_m, final_c, testing_data):\n",
    "    y_pred = []\n",
    "    rows , features = testing_data.shape\n",
    "    \n",
    "    for i in range(rows):\n",
    "        mx=0\n",
    "        for j in range(features):\n",
    "            mx+=final_m[j]*testing_data[i][j]\n",
    "        ans = mx + final_c\n",
    "        y_pred.append(ans)\n",
    "    return y_pred"
   ]
  },
  {
   "cell_type": "code",
   "execution_count": 36,
   "id": "79ff3324",
   "metadata": {},
   "outputs": [],
   "source": [
    "y_predict = predict(coeff,intercept,X_test_transform)"
   ]
  },
  {
   "cell_type": "code",
   "execution_count": 37,
   "id": "6efcdebd",
   "metadata": {},
   "outputs": [],
   "source": [
    "np.savetxt('Predictions.csv',y_predict)"
   ]
  },
  {
   "cell_type": "code",
   "execution_count": null,
   "id": "1dd181ba",
   "metadata": {},
   "outputs": [],
   "source": []
  },
  {
   "cell_type": "markdown",
   "id": "2cc4d8d5",
   "metadata": {},
   "source": [
    "# Fitting the data with SkLearn"
   ]
  },
  {
   "cell_type": "code",
   "execution_count": 39,
   "id": "e3c0d2c9",
   "metadata": {},
   "outputs": [
    {
     "data": {
      "text/plain": [
       "(454.43129319955403,\n",
       " array([-14.90272935,  -2.89427819,   0.34973996,  -2.34230172]))"
      ]
     },
     "execution_count": 39,
     "metadata": {},
     "output_type": "execute_result"
    }
   ],
   "source": [
    "from sklearn.linear_model import LinearRegression\n",
    "lin_reg = LinearRegression()\n",
    "lin_reg.fit(X_transform, Y)\n",
    "lin_reg.intercept_, lin_reg.coef_"
   ]
  },
  {
   "cell_type": "code",
   "execution_count": 40,
   "id": "2dde6911",
   "metadata": {},
   "outputs": [
    {
     "data": {
      "text/plain": [
       "array([469.95711113, 471.76632733, 433.85647002, ..., 439.13871988,\n",
       "       450.65930697, 447.27281902])"
      ]
     },
     "execution_count": 40,
     "metadata": {},
     "output_type": "execute_result"
    }
   ],
   "source": [
    "lin_reg.predict(X_test_transform)"
   ]
  },
  {
   "cell_type": "code",
   "execution_count": null,
   "id": "5f2a2a92",
   "metadata": {},
   "outputs": [],
   "source": []
  }
 ],
 "metadata": {
  "kernelspec": {
   "display_name": "Python 3 (ipykernel)",
   "language": "python",
   "name": "python3"
  },
  "language_info": {
   "codemirror_mode": {
    "name": "ipython",
    "version": 3
   },
   "file_extension": ".py",
   "mimetype": "text/x-python",
   "name": "python",
   "nbconvert_exporter": "python",
   "pygments_lexer": "ipython3",
   "version": "3.9.13"
  }
 },
 "nbformat": 4,
 "nbformat_minor": 5
}
