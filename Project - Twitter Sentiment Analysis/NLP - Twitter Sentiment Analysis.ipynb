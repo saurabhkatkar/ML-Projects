{
 "cells": [
  {
   "cell_type": "code",
   "execution_count": 13,
   "id": "34b384e9",
   "metadata": {},
   "outputs": [
    {
     "name": "stderr",
     "output_type": "stream",
     "text": [
      "[nltk_data] Downloading package wordnet to\n",
      "[nltk_data]     C:\\Users\\saura\\AppData\\Roaming\\nltk_data...\n",
      "[nltk_data]   Package wordnet is already up-to-date!\n",
      "[nltk_data] Downloading package omw-1.4 to\n",
      "[nltk_data]     C:\\Users\\saura\\AppData\\Roaming\\nltk_data...\n"
     ]
    },
    {
     "data": {
      "text/plain": [
       "True"
      ]
     },
     "execution_count": 13,
     "metadata": {},
     "output_type": "execute_result"
    }
   ],
   "source": [
    "import nltk\n",
    "nltk.download('wordnet')\n",
    "nltk.download('omw-1.4')"
   ]
  },
  {
   "cell_type": "code",
   "execution_count": 48,
   "id": "2d8fd2d9",
   "metadata": {},
   "outputs": [],
   "source": [
    "import numpy as np\n",
    "import pandas as pd"
   ]
  },
  {
   "cell_type": "code",
   "execution_count": 49,
   "id": "f489b3de",
   "metadata": {},
   "outputs": [],
   "source": [
    "training_data = pd.read_csv('train.csv')\n",
    "testing_data = pd.read_csv('test.csv')"
   ]
  },
  {
   "cell_type": "code",
   "execution_count": 50,
   "id": "32f57fd8",
   "metadata": {},
   "outputs": [],
   "source": [
    "training_data['text_arr']=training_data['text'].str.split()\n",
    "train_test = training_data[['text_arr','airline_sentiment']]\n",
    "documents = train_test.values\n",
    "documents_test = testing_data['text'].str.split().values"
   ]
  },
  {
   "cell_type": "code",
   "execution_count": 51,
   "id": "569cc5a2",
   "metadata": {},
   "outputs": [],
   "source": [
    "from nltk.stem import WordNetLemmatizer\n",
    "lemmatizer = WordNetLemmatizer()"
   ]
  },
  {
   "cell_type": "code",
   "execution_count": 52,
   "id": "57e3ab94",
   "metadata": {},
   "outputs": [],
   "source": [
    "from nltk.corpus import wordnet\n",
    "def get_simple_pos(tag): #creating simple tags to pass into the lemmatizer\n",
    "    if tag.startswith('J'):\n",
    "        return wordnet.ADJ\n",
    "    elif tag.startswith('V'):\n",
    "        return wordnet.VERB\n",
    "    elif tag.startswith('N'):\n",
    "        return wordnet.NOUN\n",
    "    elif tag.startswith('R'):\n",
    "        return wordnet.ADV\n",
    "    else:\n",
    "        return wordnet.NOUN"
   ]
  },
  {
   "cell_type": "code",
   "execution_count": 53,
   "id": "9392c06a",
   "metadata": {},
   "outputs": [],
   "source": [
    "from nltk.corpus import stopwords\n",
    "import string\n",
    "stops = stopwords.words('english') + list(string.punctuation)"
   ]
  },
  {
   "cell_type": "code",
   "execution_count": 54,
   "id": "2c53a39a",
   "metadata": {},
   "outputs": [],
   "source": [
    "from nltk import pos_tag"
   ]
  },
  {
   "cell_type": "code",
   "execution_count": 55,
   "id": "2a3bdb3e",
   "metadata": {},
   "outputs": [],
   "source": [
    "def clean_review(words):\n",
    "    output_words = []\n",
    "    for w in words:\n",
    "        if w.lower() not in stops:\n",
    "            pos = pos_tag([w])                                 \n",
    "            clean_word = lemmatizer.lemmatize(w, get_simple_pos(pos[0][1]))\n",
    "            output_words.append(clean_word.lower())\n",
    "    return output_words"
   ]
  },
  {
   "cell_type": "code",
   "execution_count": 56,
   "id": "710d6907",
   "metadata": {},
   "outputs": [],
   "source": [
    "documents = [[clean_review(document), category] for document, category in documents]"
   ]
  },
  {
   "cell_type": "code",
   "execution_count": 57,
   "id": "2ff7d5ff",
   "metadata": {},
   "outputs": [],
   "source": [
    "documents_test=[(clean_review(document)) for document in documents_test]"
   ]
  },
  {
   "cell_type": "code",
   "execution_count": 58,
   "id": "cb358458",
   "metadata": {},
   "outputs": [
    {
     "name": "stdout",
     "output_type": "stream",
     "text": [
      "<class 'list'>\n"
     ]
    }
   ],
   "source": [
    "print(type(documents))\n",
    "train_data = pd.Series(documents,dtype='object')"
   ]
  },
  {
   "cell_type": "code",
   "execution_count": 59,
   "id": "e1a6cb27",
   "metadata": {},
   "outputs": [],
   "source": [
    "X_train = train_data[0:]"
   ]
  },
  {
   "cell_type": "code",
   "execution_count": 60,
   "id": "264d9924",
   "metadata": {},
   "outputs": [],
   "source": [
    "all_words=[]\n",
    "for i in documents:\n",
    "    all_words+=i[0]\n",
    "    \n",
    "frequency=nltk.FreqDist(all_words)\n",
    "\n",
    "common=frequency.most_common(3000)\n",
    "features=[i[0]for i in common]"
   ]
  },
  {
   "cell_type": "code",
   "execution_count": 61,
   "id": "da959b0e",
   "metadata": {},
   "outputs": [],
   "source": [
    "def get_feature_dict(words):\n",
    "    current_features={}\n",
    "    words_set=set(words)\n",
    "    for w in features:\n",
    "        current_features[w]=w in words_set\n",
    "    return current_features"
   ]
  },
  {
   "cell_type": "code",
   "execution_count": 62,
   "id": "dbb04ff3",
   "metadata": {},
   "outputs": [],
   "source": [
    "training_Data=[(get_feature_dict(doc),category) for doc,category in documents]"
   ]
  },
  {
   "cell_type": "code",
   "execution_count": 63,
   "id": "059bf7dc",
   "metadata": {},
   "outputs": [],
   "source": [
    "testing_Data=[(get_feature_dict(doc))for doc in documents_test]"
   ]
  },
  {
   "cell_type": "code",
   "execution_count": 67,
   "id": "f98f1e4b",
   "metadata": {},
   "outputs": [],
   "source": [
    "from nltk import NaiveBayesClassifier"
   ]
  },
  {
   "cell_type": "code",
   "execution_count": 68,
   "id": "8e741d49",
   "metadata": {},
   "outputs": [],
   "source": [
    "classifier=NaiveBayesClassifier.train(training_Data)"
   ]
  },
  {
   "cell_type": "code",
   "execution_count": 69,
   "id": "201997c6",
   "metadata": {},
   "outputs": [
    {
     "data": {
      "text/plain": [
       "0.8375227686703096"
      ]
     },
     "execution_count": 69,
     "metadata": {},
     "output_type": "execute_result"
    }
   ],
   "source": [
    "nltk.classify.accuracy(classifier,training_Data)"
   ]
  },
  {
   "cell_type": "code",
   "execution_count": 71,
   "id": "7cc93dac",
   "metadata": {},
   "outputs": [],
   "source": [
    "predict=[]\n",
    "for i in range(len(testing_data)):\n",
    "    predict.append(classifier.classify(testing_Data[i]))"
   ]
  },
  {
   "cell_type": "code",
   "execution_count": 72,
   "id": "aee91af6",
   "metadata": {},
   "outputs": [],
   "source": [
    "np.savetxt('predictions.csv', X=predict, delimiter=',', fmt=\"%s\")"
   ]
  },
  {
   "cell_type": "code",
   "execution_count": null,
   "id": "b25b5d96",
   "metadata": {},
   "outputs": [],
   "source": []
  },
  {
   "cell_type": "code",
   "execution_count": 73,
   "id": "644b17b4",
   "metadata": {},
   "outputs": [],
   "source": [
    "from sklearn.svm import SVC\n",
    "from nltk.classify.scikitlearn import SklearnClassifier"
   ]
  },
  {
   "cell_type": "code",
   "execution_count": 74,
   "id": "a3cdfe87",
   "metadata": {},
   "outputs": [],
   "source": [
    "svc = SVC()\n",
    "classifier_sklearn = SklearnClassifier(svc)"
   ]
  },
  {
   "cell_type": "code",
   "execution_count": 75,
   "id": "52903906",
   "metadata": {},
   "outputs": [
    {
     "data": {
      "text/plain": [
       "<SklearnClassifier(SVC())>"
      ]
     },
     "execution_count": 75,
     "metadata": {},
     "output_type": "execute_result"
    }
   ],
   "source": [
    "classifier_sklearn.train(training_Data)"
   ]
  },
  {
   "cell_type": "code",
   "execution_count": 76,
   "id": "a28817c3",
   "metadata": {},
   "outputs": [
    {
     "data": {
      "text/plain": [
       "0.906648451730419"
      ]
     },
     "execution_count": 76,
     "metadata": {},
     "output_type": "execute_result"
    }
   ],
   "source": [
    "nltk.classify.accuracy(classifier_sklearn, training_Data)"
   ]
  },
  {
   "cell_type": "code",
   "execution_count": null,
   "id": "d08827a0",
   "metadata": {},
   "outputs": [],
   "source": []
  },
  {
   "cell_type": "code",
   "execution_count": 77,
   "id": "fe638a48",
   "metadata": {},
   "outputs": [],
   "source": [
    "from sklearn.ensemble import RandomForestClassifier"
   ]
  },
  {
   "cell_type": "code",
   "execution_count": 78,
   "id": "a7660a16",
   "metadata": {},
   "outputs": [],
   "source": [
    "rfc = RandomForestClassifier()\n",
    "classifier_sklearn1 = SklearnClassifier(rfc)"
   ]
  },
  {
   "cell_type": "code",
   "execution_count": 79,
   "id": "ae7ad0df",
   "metadata": {},
   "outputs": [
    {
     "data": {
      "text/plain": [
       "<SklearnClassifier(RandomForestClassifier())>"
      ]
     },
     "execution_count": 79,
     "metadata": {},
     "output_type": "execute_result"
    }
   ],
   "source": [
    "classifier_sklearn1.train(training_Data)"
   ]
  },
  {
   "cell_type": "code",
   "execution_count": 80,
   "id": "e5b302fe",
   "metadata": {},
   "outputs": [
    {
     "data": {
      "text/plain": [
       "0.992167577413479"
      ]
     },
     "execution_count": 80,
     "metadata": {},
     "output_type": "execute_result"
    }
   ],
   "source": [
    "nltk.classify.accuracy(classifier_sklearn1, training_Data)"
   ]
  },
  {
   "cell_type": "code",
   "execution_count": null,
   "id": "87a14983",
   "metadata": {},
   "outputs": [],
   "source": []
  },
  {
   "cell_type": "code",
   "execution_count": null,
   "id": "1fc8183a",
   "metadata": {},
   "outputs": [],
   "source": [
    "from sklearn.feature_extraction.text import CountVectorizer\n",
    "count_vec = CountVectorizer(max_features = 3000)\n",
    "text_col = training_data['text'].values\n",
    "x_train_features = count_vec.fit_transform(text_col)\n",
    "x_train_dense = x_train_features.todense()"
   ]
  },
  {
   "cell_type": "code",
   "execution_count": null,
   "id": "480b5b4c",
   "metadata": {},
   "outputs": [],
   "source": [
    "x_test_features = count_vec.transform(x_test)"
   ]
  },
  {
   "cell_type": "code",
   "execution_count": null,
   "id": "d7c1458c",
   "metadata": {},
   "outputs": [],
   "source": [
    "count_svc = SVC()"
   ]
  },
  {
   "cell_type": "code",
   "execution_count": null,
   "id": "227f01df",
   "metadata": {},
   "outputs": [],
   "source": [
    "y_col = training_data['airline_sentiment'].values"
   ]
  },
  {
   "cell_type": "code",
   "execution_count": null,
   "id": "9c44c98d",
   "metadata": {},
   "outputs": [],
   "source": [
    "count_svc.fit(x_train_dense,y_col)"
   ]
  },
  {
   "cell_type": "code",
   "execution_count": null,
   "id": "ae092247",
   "metadata": {},
   "outputs": [],
   "source": [
    "svc.score(x_train_dense , y_test)"
   ]
  },
  {
   "cell_type": "code",
   "execution_count": null,
   "id": "145c7469",
   "metadata": {},
   "outputs": [],
   "source": []
  }
 ],
 "metadata": {
  "kernelspec": {
   "display_name": "Python 3 (ipykernel)",
   "language": "python",
   "name": "python3"
  },
  "language_info": {
   "codemirror_mode": {
    "name": "ipython",
    "version": 3
   },
   "file_extension": ".py",
   "mimetype": "text/x-python",
   "name": "python",
   "nbconvert_exporter": "python",
   "pygments_lexer": "ipython3",
   "version": "3.9.13"
  }
 },
 "nbformat": 4,
 "nbformat_minor": 5
}
