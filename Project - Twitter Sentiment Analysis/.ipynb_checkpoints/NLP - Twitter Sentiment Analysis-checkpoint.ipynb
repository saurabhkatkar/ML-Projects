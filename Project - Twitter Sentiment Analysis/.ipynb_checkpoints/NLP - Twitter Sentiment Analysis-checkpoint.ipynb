{
 "cells": [
  {
   "cell_type": "code",
   "execution_count": 13,
   "id": "168d3028",
   "metadata": {},
   "outputs": [
    {
     "name": "stderr",
     "output_type": "stream",
     "text": [
      "[nltk_data] Downloading package wordnet to\n",
      "[nltk_data]     C:\\Users\\saura\\AppData\\Roaming\\nltk_data...\n",
      "[nltk_data]   Package wordnet is already up-to-date!\n",
      "[nltk_data] Downloading package omw-1.4 to\n",
      "[nltk_data]     C:\\Users\\saura\\AppData\\Roaming\\nltk_data...\n"
     ]
    },
    {
     "data": {
      "text/plain": [
       "True"
      ]
     },
     "execution_count": 13,
     "metadata": {},
     "output_type": "execute_result"
    }
   ],
   "source": [
    "import nltk\n",
    "nltk.download('wordnet')\n",
    "nltk.download('omw-1.4')"
   ]
  },
  {
   "cell_type": "code",
   "execution_count": 48,
   "id": "722f5953",
   "metadata": {},
   "outputs": [],
   "source": [
    "import numpy as np\n",
    "import pandas as pd"
   ]
  },
  {
   "cell_type": "code",
   "execution_count": 49,
   "id": "e7ceedba",
   "metadata": {},
   "outputs": [],
   "source": [
    "training_data = pd.read_csv('train.csv')\n",
    "testing_data = pd.read_csv('test.csv')"
   ]
  },
  {
   "cell_type": "code",
   "execution_count": 50,
   "id": "c9167f56",
   "metadata": {},
   "outputs": [],
   "source": [
    "training_data['text_arr']=training_data['text'].str.split()\n",
    "train_test = training_data[['text_arr','airline_sentiment']]\n",
    "documents = train_test.values\n",
    "documents_test = testing_data['text'].str.split().values"
   ]
  },
  {
   "cell_type": "code",
   "execution_count": 51,
   "id": "35c6c2f3",
   "metadata": {},
   "outputs": [],
   "source": [
    "from nltk.stem import WordNetLemmatizer\n",
    "lemmatizer = WordNetLemmatizer()"
   ]
  },
  {
   "cell_type": "code",
   "execution_count": 52,
   "id": "0fe159ac",
   "metadata": {},
   "outputs": [],
   "source": [
    "from nltk.corpus import wordnet\n",
    "def get_simple_pos(tag): #creating simple tags to pass into the lemmatizer\n",
    "    if tag.startswith('J'):\n",
    "        return wordnet.ADJ\n",
    "    elif tag.startswith('V'):\n",
    "        return wordnet.VERB\n",
    "    elif tag.startswith('N'):\n",
    "        return wordnet.NOUN\n",
    "    elif tag.startswith('R'):\n",
    "        return wordnet.ADV\n",
    "    else:\n",
    "        return wordnet.NOUN"
   ]
  },
  {
   "cell_type": "code",
   "execution_count": 53,
   "id": "6aca6aed",
   "metadata": {},
   "outputs": [],
   "source": [
    "from nltk.corpus import stopwords\n",
    "import string\n",
    "stops = stopwords.words('english') + list(string.punctuation)"
   ]
  },
  {
   "cell_type": "code",
   "execution_count": 54,
   "id": "333785a1",
   "metadata": {},
   "outputs": [],
   "source": [
    "from nltk import pos_tag"
   ]
  },
  {
   "cell_type": "code",
   "execution_count": 55,
   "id": "213efaea",
   "metadata": {},
   "outputs": [],
   "source": [
    "def clean_review(words):\n",
    "    output_words = []\n",
    "    for w in words:\n",
    "        if w.lower() not in stops:\n",
    "            pos = pos_tag([w])                                 \n",
    "            clean_word = lemmatizer.lemmatize(w, get_simple_pos(pos[0][1]))\n",
    "            output_words.append(clean_word.lower())\n",
    "    return output_words"
   ]
  },
  {
   "cell_type": "code",
   "execution_count": 56,
   "id": "7e8a7406",
   "metadata": {},
   "outputs": [],
   "source": [
    "documents = [[clean_review(document), category] for document, category in documents]"
   ]
  },
  {
   "cell_type": "code",
   "execution_count": 57,
   "id": "9e437474",
   "metadata": {},
   "outputs": [],
   "source": [
    "documents_test=[(clean_review(document)) for document in documents_test]"
   ]
  },
  {
   "cell_type": "code",
   "execution_count": 58,
   "id": "93962ac9",
   "metadata": {},
   "outputs": [
    {
     "name": "stdout",
     "output_type": "stream",
     "text": [
      "<class 'list'>\n"
     ]
    }
   ],
   "source": [
    "print(type(documents))\n",
    "train_data = pd.Series(documents,dtype='object')"
   ]
  },
  {
   "cell_type": "code",
   "execution_count": 59,
   "id": "e0f8d685",
   "metadata": {},
   "outputs": [],
   "source": [
    "X_train = train_data[0:]"
   ]
  },
  {
   "cell_type": "code",
   "execution_count": 60,
   "id": "e0304701",
   "metadata": {},
   "outputs": [],
   "source": [
    "all_words=[]\n",
    "for i in documents:\n",
    "    all_words+=i[0]\n",
    "    \n",
    "frequency=nltk.FreqDist(all_words)\n",
    "\n",
    "common=frequency.most_common(3000)\n",
    "features=[i[0]for i in common]"
   ]
  },
  {
   "cell_type": "code",
   "execution_count": 61,
   "id": "34983b3e",
   "metadata": {},
   "outputs": [],
   "source": [
    "def get_feature_dict(words):\n",
    "    current_features={}\n",
    "    words_set=set(words)\n",
    "    for w in features:\n",
    "        current_features[w]=w in words_set\n",
    "    return current_features"
   ]
  },
  {
   "cell_type": "code",
   "execution_count": 62,
   "id": "b40007de",
   "metadata": {},
   "outputs": [],
   "source": [
    "training_Data=[(get_feature_dict(doc),category) for doc,category in documents]"
   ]
  },
  {
   "cell_type": "code",
   "execution_count": 63,
   "id": "231769e3",
   "metadata": {},
   "outputs": [],
   "source": [
    "testing_Data=[(get_feature_dict(doc))for doc in documents_test]"
   ]
  },
  {
   "cell_type": "code",
   "execution_count": 67,
   "id": "f5ee67f6",
   "metadata": {},
   "outputs": [],
   "source": [
    "from nltk import NaiveBayesClassifier"
   ]
  },
  {
   "cell_type": "code",
   "execution_count": 68,
   "id": "33594f5a",
   "metadata": {},
   "outputs": [],
   "source": [
    "classifier=NaiveBayesClassifier.train(training_Data)"
   ]
  },
  {
   "cell_type": "code",
   "execution_count": 69,
   "id": "fccb525d",
   "metadata": {},
   "outputs": [
    {
     "data": {
      "text/plain": [
       "0.8375227686703096"
      ]
     },
     "execution_count": 69,
     "metadata": {},
     "output_type": "execute_result"
    }
   ],
   "source": [
    "nltk.classify.accuracy(classifier,training_Data)"
   ]
  },
  {
   "cell_type": "code",
   "execution_count": 71,
   "id": "c2a99376",
   "metadata": {},
   "outputs": [],
   "source": [
    "predict=[]\n",
    "for i in range(len(testing_data)):\n",
    "    predict.append(classifier.classify(testing_Data[i]))"
   ]
  },
  {
   "cell_type": "code",
   "execution_count": 72,
   "id": "de84149b",
   "metadata": {},
   "outputs": [],
   "source": [
    "np.savetxt('predictions.csv', X=predict, delimiter=',', fmt=\"%s\")"
   ]
  },
  {
   "cell_type": "code",
   "execution_count": null,
   "id": "569cd295",
   "metadata": {},
   "outputs": [],
   "source": []
  }
 ],
 "metadata": {
  "kernelspec": {
   "display_name": "Python 3 (ipykernel)",
   "language": "python",
   "name": "python3"
  },
  "language_info": {
   "codemirror_mode": {
    "name": "ipython",
    "version": 3
   },
   "file_extension": ".py",
   "mimetype": "text/x-python",
   "name": "python",
   "nbconvert_exporter": "python",
   "pygments_lexer": "ipython3",
   "version": "3.9.13"
  }
 },
 "nbformat": 4,
 "nbformat_minor": 5
}
