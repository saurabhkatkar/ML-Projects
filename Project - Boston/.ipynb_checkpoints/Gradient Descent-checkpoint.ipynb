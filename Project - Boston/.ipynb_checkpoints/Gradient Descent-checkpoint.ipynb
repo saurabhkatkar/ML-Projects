{
 "cells": [
  {
   "cell_type": "markdown",
   "id": "e910802e",
   "metadata": {},
   "source": [
    "# Gradient Descent - Boston Dataset"
   ]
  },
  {
   "cell_type": "markdown",
   "id": "6a8cd02a",
   "metadata": {},
   "source": [
    "1. Code Gradient Descent for N features and come with predictions.\n",
    "2. Try and test with various combinations of learning rates and number of iterations.\n",
    "3. Try using Feature Scaling, and see if it helps you in getting better results. "
   ]
  },
  {
   "cell_type": "markdown",
   "id": "20c98c97",
   "metadata": {},
   "source": [
    "### Instructions:\n",
    "\n",
    "1. Use Gradient Descent as a training algorithm and submit results predicted.\n",
    "2. Files are in csv format, you can use genfromtxt function in numpy to load data from csv file. Similarly you can use savetxt function to save data into a file.\n",
    "3. Submit a csv file with only predictions for X test data. File name should not have spaces. File should not have any headers and should only have one column i.e. predictions. Also predictions shouldn't be in exponential form. \n",
    "4. Your score is based on coefficient of determination.\n"
   ]
  },
  {
   "cell_type": "code",
   "execution_count": 212,
   "id": "66d35a1c",
   "metadata": {},
   "outputs": [],
   "source": [
    "import numpy as np"
   ]
  },
  {
   "cell_type": "code",
   "execution_count": 213,
   "id": "8e8b00f2",
   "metadata": {},
   "outputs": [],
   "source": [
    "training_data = np.genfromtxt(\"train.csv\",delimiter=\",\")\n",
    "testing_data = np.genfromtxt(\"test.csv\",delimiter=\",\")"
   ]
  },
  {
   "cell_type": "code",
   "execution_count": 214,
   "id": "b545b8f3",
   "metadata": {},
   "outputs": [],
   "source": [
    "X = training_data[:,:-1]\n",
    "Y = training_data[:,-1]\n",
    "X_test = testing_data"
   ]
  },
  {
   "cell_type": "code",
   "execution_count": 215,
   "id": "9cc55b5e",
   "metadata": {},
   "outputs": [],
   "source": [
    "from sklearn.preprocessing import StandardScaler\n",
    "sc=StandardScaler()\n",
    "X_transform=sc.fit_transform(X)\n",
    "X_test_transform = sc.transform(X_test)"
   ]
  },
  {
   "cell_type": "code",
   "execution_count": null,
   "id": "b7802ea6",
   "metadata": {},
   "outputs": [],
   "source": []
  },
  {
   "cell_type": "code",
   "execution_count": 216,
   "id": "991ffdb2",
   "metadata": {},
   "outputs": [],
   "source": [
    "# This function finds the new cost after each optimisation.\n",
    "def cost(points, m):\n",
    "    rows , features = points.shape\n",
    "    total_cost = 0\n",
    "    for i in range(rows):\n",
    "        mx = 0\n",
    "        for j in range(features-1):\n",
    "            x = points[i, j]\n",
    "            mx += m[j]*x\n",
    "            \n",
    "        mx+=m[features-1]\n",
    "        \n",
    "        y = points[i, features-1]\n",
    "        \n",
    "        \n",
    "        total_cost += (1/rows)*((y - mx)**2)\n",
    "    return total_cost"
   ]
  },
  {
   "cell_type": "code",
   "execution_count": 217,
   "id": "38e43167",
   "metadata": {},
   "outputs": [],
   "source": [
    "# This function finds the new gradient at each step\n",
    "def step_gradient(points, learning_rate, m ):\n",
    "    rows , features = points.shape\n",
    "    m_slope = [ 0 for i in range(features)]\n",
    "    \n",
    "    for i in range(rows):\n",
    "        mx = 0\n",
    "        for j in range(features-1):\n",
    "            x = points[i, j]\n",
    "            mx += m[j]*x\n",
    "            \n",
    "        mx+=m[features-1]\n",
    "        \n",
    "        y = points[i, features-1]\n",
    "        \n",
    "        for j in range(features-1):\n",
    "            x=points[i,j]\n",
    "            m_slope[j] += (-2/rows)* (y - mx)*x\n",
    "            \n",
    "        m_slope[features-1] += (-2/rows)* (y - mx)\n",
    "    \n",
    "    new_m = [ 0 for i in range(features)]\n",
    "    for i in range(features):\n",
    "        new_m[i] = m[i] - learning_rate * m_slope[i]\n",
    "    \n",
    "    return new_m"
   ]
  },
  {
   "cell_type": "code",
   "execution_count": 218,
   "id": "5db38bea",
   "metadata": {},
   "outputs": [],
   "source": [
    "# The Gradient Descent Function\n",
    "def gd(points, learning_rate, num_iterations):\n",
    "    rows , features = points.shape\n",
    "    m = [0 for i in range(features)]       # Intial random value taken as 0\n",
    "    \n",
    "    for i in range(num_iterations):\n",
    "        m = step_gradient(points, learning_rate, m )\n",
    "#         print(i, \" Cost: \", cost(points, m))\n",
    "    return m"
   ]
  },
  {
   "cell_type": "code",
   "execution_count": 219,
   "id": "66de87ef",
   "metadata": {},
   "outputs": [],
   "source": [
    "def run(training_data,learning_rate,num_iterations):\n",
    "    m = gd(training_data, learning_rate, num_iterations)\n",
    "    intercept = m[-1]\n",
    "    coeff = m[:-1]\n",
    "    return intercept,coeff"
   ]
  },
  {
   "cell_type": "code",
   "execution_count": 241,
   "id": "0e68129e",
   "metadata": {},
   "outputs": [
    {
     "name": "stdout",
     "output_type": "stream",
     "text": [
      "22.677233263862004 [-0.9380807656720777, 0.74103443456485, 0.01169156972062025, 0.7808737210637124, -2.174557498741871, 2.3542965277166976, 0.12333809739942209, -2.9523235489356594, 2.5329681667540758, -1.702903701014967, -2.251519617368038, 0.5883542859831407, -4.263681547801751]\n"
     ]
    }
   ],
   "source": [
    "learning_rate = 0.16043\n",
    "num_iterations = 5000\n",
    "\n",
    "intercept,coeff = run(training_data,learning_rate,num_iterations)\n",
    "\n",
    "print(intercept,coeff)"
   ]
  },
  {
   "cell_type": "markdown",
   "id": "7b6b07be",
   "metadata": {},
   "source": []
  },
  {
   "cell_type": "code",
   "execution_count": null,
   "id": "a708d6a5",
   "metadata": {},
   "outputs": [],
   "source": []
  },
  {
   "cell_type": "code",
   "execution_count": 221,
   "id": "8f392b79",
   "metadata": {},
   "outputs": [],
   "source": [
    "def predict(final_m, final_c, testing_data):\n",
    "    y_pred = []\n",
    "    rows , features = testing_data.shape\n",
    "    \n",
    "    for i in range(rows):\n",
    "        mx=0\n",
    "        for j in range(features):\n",
    "            mx+=final_m[j]*testing_data[i][j]\n",
    "        ans = mx + final_c\n",
    "        y_pred.append(ans)\n",
    "    return y_pred"
   ]
  },
  {
   "cell_type": "code",
   "execution_count": 222,
   "id": "ff426ba1",
   "metadata": {},
   "outputs": [],
   "source": [
    "y_predict = predict(coeff,intercept,X_test_transform)"
   ]
  },
  {
   "cell_type": "code",
   "execution_count": 223,
   "id": "2acef12a",
   "metadata": {},
   "outputs": [],
   "source": [
    "np.savetxt('Predictions.csv',y_predict)"
   ]
  },
  {
   "cell_type": "code",
   "execution_count": null,
   "id": "192333ad",
   "metadata": {},
   "outputs": [],
   "source": []
  },
  {
   "cell_type": "code",
   "execution_count": null,
   "id": "96275400",
   "metadata": {},
   "outputs": [],
   "source": []
  },
  {
   "cell_type": "markdown",
   "id": "0a0d740d",
   "metadata": {},
   "source": [
    "# Fitting the data with SkLearn"
   ]
  },
  {
   "cell_type": "code",
   "execution_count": 224,
   "id": "37099240",
   "metadata": {},
   "outputs": [
    {
     "data": {
      "text/plain": [
       "(22.609498680738785,\n",
       " array([-1.00007026,  0.74065794,  0.01188043,  0.81805153, -2.17094041,\n",
       "         2.35394967,  0.12135345, -3.03040197,  2.57076841, -1.73462464,\n",
       "        -2.24921247,  0.59685962, -4.32352985]))"
      ]
     },
     "execution_count": 224,
     "metadata": {},
     "output_type": "execute_result"
    }
   ],
   "source": [
    "from sklearn.linear_model import LinearRegression\n",
    "lin_reg = LinearRegression()\n",
    "lin_reg.fit(X_transform, Y)\n",
    "lin_reg.intercept_, lin_reg.coef_"
   ]
  },
  {
   "cell_type": "code",
   "execution_count": 242,
   "id": "8bebe9b7",
   "metadata": {},
   "outputs": [],
   "source": [
    "y_predict = lin_reg.predict(X_test_transform)\n"
   ]
  },
  {
   "cell_type": "code",
   "execution_count": null,
   "id": "ddef269f",
   "metadata": {},
   "outputs": [],
   "source": []
  }
 ],
 "metadata": {
  "kernelspec": {
   "display_name": "Python 3 (ipykernel)",
   "language": "python",
   "name": "python3"
  },
  "language_info": {
   "codemirror_mode": {
    "name": "ipython",
    "version": 3
   },
   "file_extension": ".py",
   "mimetype": "text/x-python",
   "name": "python",
   "nbconvert_exporter": "python",
   "pygments_lexer": "ipython3",
   "version": "3.9.13"
  }
 },
 "nbformat": 4,
 "nbformat_minor": 5
}
