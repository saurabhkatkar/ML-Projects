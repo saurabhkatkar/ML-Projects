{
 "cells": [
  {
   "cell_type": "markdown",
   "id": "e910802e",
   "metadata": {},
   "source": [
    "# Gradient Descent - Boston Dataset"
   ]
  },
  {
   "cell_type": "markdown",
   "id": "6a8cd02a",
   "metadata": {},
   "source": [
    "1. Code Gradient Descent for N features and come with predictions.\n",
    "2. Try and test with various combinations of learning rates and number of iterations.\n",
    "3. Try using Feature Scaling, and see if it helps you in getting better results. "
   ]
  },
  {
   "cell_type": "markdown",
   "id": "20c98c97",
   "metadata": {},
   "source": [
    "### Instructions:\n",
    "\n",
    "1. Use Gradient Descent as a training algorithm and submit results predicted.\n",
    "2. Files are in csv format, you can use genfromtxt function in numpy to load data from csv file. Similarly you can use savetxt function to save data into a file.\n",
    "3. Submit a csv file with only predictions for X test data. File name should not have spaces. File should not have any headers and should only have one column i.e. predictions. Also predictions shouldn't be in exponential form. \n",
    "4. Your score is based on coefficient of determination.\n"
   ]
  },
  {
   "cell_type": "code",
   "execution_count": 212,
   "id": "66d35a1c",
   "metadata": {},
   "outputs": [],
   "source": [
    "import numpy as np"
   ]
  },
  {
   "cell_type": "code",
   "execution_count": 213,
   "id": "1c7b3c52",
   "metadata": {},
   "outputs": [],
   "source": [
    "training_data = np.genfromtxt(\"train.csv\",delimiter=\",\")\n",
    "testing_data = np.genfromtxt(\"test.csv\",delimiter=\",\")"
   ]
  },
  {
   "cell_type": "code",
   "execution_count": 214,
   "id": "4f342919",
   "metadata": {},
   "outputs": [],
   "source": [
    "X = training_data[:,:-1]\n",
    "Y = training_data[:,-1]\n",
    "X_test = testing_data"
   ]
  },
  {
   "cell_type": "code",
   "execution_count": 215,
   "id": "07952bc0",
   "metadata": {},
   "outputs": [],
   "source": [
    "from sklearn.preprocessing import StandardScaler\n",
    "sc=StandardScaler()\n",
    "X_transform=sc.fit_transform(X)\n",
    "X_test_transform = sc.transform(X_test)"
   ]
  },
  {
   "cell_type": "code",
   "execution_count": null,
   "id": "f521f609",
   "metadata": {},
   "outputs": [],
   "source": []
  },
  {
   "cell_type": "code",
   "execution_count": 216,
   "id": "2296f221",
   "metadata": {},
   "outputs": [],
   "source": [
    "# This function finds the new cost after each optimisation.\n",
    "def cost(points, m):\n",
    "    rows , features = points.shape\n",
    "    total_cost = 0\n",
    "    for i in range(rows):\n",
    "        mx = 0\n",
    "        for j in range(features-1):\n",
    "            x = points[i, j]\n",
    "            mx += m[j]*x\n",
    "            \n",
    "        mx+=m[features-1]\n",
    "        \n",
    "        y = points[i, features-1]\n",
    "        \n",
    "        \n",
    "        total_cost += (1/rows)*((y - mx)**2)\n",
    "    return total_cost"
   ]
  },
  {
   "cell_type": "code",
   "execution_count": 217,
   "id": "437868da",
   "metadata": {},
   "outputs": [],
   "source": [
    "# This function finds the new gradient at each step\n",
    "def step_gradient(points, learning_rate, m ):\n",
    "    rows , features = points.shape\n",
    "    m_slope = [ 0 for i in range(features)]\n",
    "    \n",
    "    for i in range(rows):\n",
    "        mx = 0\n",
    "        for j in range(features-1):\n",
    "            x = points[i, j]\n",
    "            mx += m[j]*x\n",
    "            \n",
    "        mx+=m[features-1]\n",
    "        \n",
    "        y = points[i, features-1]\n",
    "        \n",
    "        for j in range(features-1):\n",
    "            x=points[i,j]\n",
    "            m_slope[j] += (-2/rows)* (y - mx)*x\n",
    "            \n",
    "        m_slope[features-1] += (-2/rows)* (y - mx)\n",
    "    \n",
    "    new_m = [ 0 for i in range(features)]\n",
    "    for i in range(features):\n",
    "        new_m[i] = m[i] - learning_rate * m_slope[i]\n",
    "    \n",
    "    return new_m"
   ]
  },
  {
   "cell_type": "code",
   "execution_count": 218,
   "id": "4a807ced",
   "metadata": {},
   "outputs": [],
   "source": [
    "# The Gradient Descent Function\n",
    "def gd(points, learning_rate, num_iterations):\n",
    "    rows , features = points.shape\n",
    "    m = [0 for i in range(features)]       # Intial random value taken as 0\n",
    "    \n",
    "    for i in range(num_iterations):\n",
    "        m = step_gradient(points, learning_rate, m )\n",
    "#         print(i, \" Cost: \", cost(points, m))\n",
    "    return m"
   ]
  },
  {
   "cell_type": "code",
   "execution_count": 219,
   "id": "1d39ebea",
   "metadata": {},
   "outputs": [],
   "source": [
    "def run(training_data,learning_rate,num_iterations):\n",
    "    m = gd(training_data, learning_rate, num_iterations)\n",
    "    intercept = m[-1]\n",
    "    coeff = m[:-1]\n",
    "    return intercept,coeff"
   ]
  },
  {
   "cell_type": "code",
   "execution_count": 241,
   "id": "bb6f7b5e",
   "metadata": {},
   "outputs": [
    {
     "name": "stdout",
     "output_type": "stream",
     "text": [
      "22.677233263862004 [-0.9380807656720777, 0.74103443456485, 0.01169156972062025, 0.7808737210637124, -2.174557498741871, 2.3542965277166976, 0.12333809739942209, -2.9523235489356594, 2.5329681667540758, -1.702903701014967, -2.251519617368038, 0.5883542859831407, -4.263681547801751]\n"
     ]
    }
   ],
   "source": [
    "learning_rate = 0.16043\n",
    "num_iterations = 5000\n",
    "\n",
    "intercept,coeff = run(training_data,learning_rate,num_iterations)\n",
    "\n",
    "print(intercept,coeff)"
   ]
  },
  {
   "cell_type": "markdown",
   "id": "59200b7c",
   "metadata": {},
   "source": []
  },
  {
   "cell_type": "code",
   "execution_count": null,
   "id": "b8de1fb2",
   "metadata": {},
   "outputs": [],
   "source": []
  },
  {
   "cell_type": "code",
   "execution_count": 221,
   "id": "88fd4c05",
   "metadata": {},
   "outputs": [],
   "source": [
    "def predict(final_m, final_c, testing_data):\n",
    "    y_pred = []\n",
    "    rows , features = testing_data.shape\n",
    "    \n",
    "    for i in range(rows):\n",
    "        mx=0\n",
    "        for j in range(features):\n",
    "            mx+=final_m[j]*testing_data[i][j]\n",
    "        ans = mx + final_c\n",
    "        y_pred.append(ans)\n",
    "    return y_pred"
   ]
  },
  {
   "cell_type": "code",
   "execution_count": 222,
   "id": "bfc310e1",
   "metadata": {},
   "outputs": [],
   "source": [
    "y_predict = predict(coeff,intercept,X_test_transform)"
   ]
  },
  {
   "cell_type": "code",
   "execution_count": 223,
   "id": "bca30500",
   "metadata": {},
   "outputs": [],
   "source": [
    "np.savetxt('Predictions.csv',y_predict)"
   ]
  },
  {
   "cell_type": "code",
   "execution_count": null,
   "id": "6049b84d",
   "metadata": {},
   "outputs": [],
   "source": []
  },
  {
   "cell_type": "code",
   "execution_count": null,
   "id": "eb499ac0",
   "metadata": {},
   "outputs": [],
   "source": []
  },
  {
   "cell_type": "markdown",
   "id": "a0349333",
   "metadata": {},
   "source": [
    "# Fitting the data with SkLearn"
   ]
  },
  {
   "cell_type": "code",
   "execution_count": 224,
   "id": "e299daa8",
   "metadata": {},
   "outputs": [
    {
     "data": {
      "text/plain": [
       "(22.609498680738785,\n",
       " array([-1.00007026,  0.74065794,  0.01188043,  0.81805153, -2.17094041,\n",
       "         2.35394967,  0.12135345, -3.03040197,  2.57076841, -1.73462464,\n",
       "        -2.24921247,  0.59685962, -4.32352985]))"
      ]
     },
     "execution_count": 224,
     "metadata": {},
     "output_type": "execute_result"
    }
   ],
   "source": [
    "from sklearn.linear_model import LinearRegression\n",
    "lin_reg = LinearRegression()\n",
    "lin_reg.fit(X_transform, Y)\n",
    "lin_reg.intercept_, lin_reg.coef_"
   ]
  },
  {
   "cell_type": "code",
   "execution_count": 244,
   "id": "4ebcb0f4",
   "metadata": {},
   "outputs": [
    {
     "data": {
      "text/plain": [
       "array([12.43328344, 29.03367318, 22.37164455, 24.47778655, 20.60166977,\n",
       "        2.72533175, 30.40000409, 24.86120042, 18.65724977, 23.53985838,\n",
       "       24.11396872, 17.71143854, 17.44000298, 21.65356278, 42.31137694,\n",
       "       23.84974493, 24.47573232, 27.53872655, 20.23606694, 31.15155453,\n",
       "       23.78237904, 25.00979443, 33.95768541, 36.43515649, 32.04098329,\n",
       "       16.71322632, 23.47176611, 32.93828009, 25.1807008 , 33.71008685,\n",
       "       16.88580202, 26.02760837, 23.27040025, 25.47758968, 15.00946631,\n",
       "       29.5857494 , 26.24821245, 20.37245654, 24.43681498,  9.44706894,\n",
       "        8.38096654, 29.01392345, 29.59085403, 19.7575697 , 20.3719679 ,\n",
       "        3.14442625, 39.52420118, 25.71741222, 30.37729628, 16.79453264,\n",
       "       17.89088652, 41.02574533, 17.57238787, 20.89662584, 15.59837696,\n",
       "       21.41394912, 18.4543645 , 23.1557639 , 13.67245022, 17.23573882,\n",
       "       15.02710365, 29.15131353, 25.17166386, 25.49749375, 17.21186687,\n",
       "       17.42936995, 34.70372763, 17.01340803, 27.10724289, 22.54695733,\n",
       "       29.25336918, 27.11018136, 17.73402192,  5.74704758, 36.87653877,\n",
       "       25.09193905, 30.15053651, 27.24080949, 16.2521844 , 32.63542161,\n",
       "       19.2735139 , 22.65416762, 22.22935077,  8.55084956, 17.33054362,\n",
       "       29.17591713, 27.20836198,  5.88576932, 21.91465626, 20.1154985 ,\n",
       "       22.17673963, 20.52700516, 20.85181227, 13.18132049, 19.69404919,\n",
       "       25.98666769, 40.27067742, 19.77706447, 33.70256574, 27.22074149,\n",
       "       28.74517137, 22.11543887, 25.9135196 , 31.30678414, 17.15297459,\n",
       "       26.37137846, 21.44656977, 36.73924503, 22.08272916, 16.70906176,\n",
       "       27.59458133, -0.05974722, 13.86188045, 16.28772152, 35.77134424,\n",
       "       20.85214459, 20.77286833, 25.35136054, 21.78782121, 18.84720303,\n",
       "       13.5148908 , 35.61958302, 23.09139597, 25.01812898, 17.46493171,\n",
       "       20.73709865, 14.72993727])"
      ]
     },
     "execution_count": 244,
     "metadata": {},
     "output_type": "execute_result"
    }
   ],
   "source": [
    "lin_reg.predict(X_test_transform)"
   ]
  },
  {
   "cell_type": "code",
   "execution_count": null,
   "id": "24af912d",
   "metadata": {},
   "outputs": [],
   "source": []
  }
 ],
 "metadata": {
  "kernelspec": {
   "display_name": "Python 3 (ipykernel)",
   "language": "python",
   "name": "python3"
  },
  "language_info": {
   "codemirror_mode": {
    "name": "ipython",
    "version": 3
   },
   "file_extension": ".py",
   "mimetype": "text/x-python",
   "name": "python",
   "nbconvert_exporter": "python",
   "pygments_lexer": "ipython3",
   "version": "3.9.13"
  }
 },
 "nbformat": 4,
 "nbformat_minor": 5
}
