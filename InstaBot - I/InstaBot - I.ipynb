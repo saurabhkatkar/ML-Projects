{
 "cells": [
  {
   "cell_type": "markdown",
   "id": "e327c75e",
   "metadata": {},
   "source": [
    "# InstaBot I"
   ]
  },
  {
   "cell_type": "markdown",
   "id": "97c26ba7",
   "metadata": {},
   "source": [
    "Importing required libraries for project"
   ]
  },
  {
   "cell_type": "code",
   "execution_count": 138,
   "id": "c00c358a",
   "metadata": {},
   "outputs": [],
   "source": [
    "from selenium import webdriver\n",
    "from webdriver_manager.chrome import ChromeDriverManager\n",
    "from selenium.webdriver.common.by import By\n",
    "from selenium.webdriver.common.keys import Keys\n",
    "from selenium.webdriver.support.ui import WebDriverWait\n",
    "from selenium.webdriver.support import expected_conditions as EC\n",
    "from bs4 import BeautifulSoup\n",
    "import time"
   ]
  },
  {
   "cell_type": "code",
   "execution_count": 139,
   "id": "390ce6b4",
   "metadata": {},
   "outputs": [
    {
     "name": "stderr",
     "output_type": "stream",
     "text": [
      "C:\\Users\\saura\\AppData\\Local\\Temp\\ipykernel_16220\\1503906442.py:1: DeprecationWarning: executable_path has been deprecated, please pass in a Service object\n",
      "  driver = webdriver.Chrome(ChromeDriverManager().install())\n"
     ]
    }
   ],
   "source": [
    "driver = webdriver.Chrome(ChromeDriverManager().install())"
   ]
  },
  {
   "cell_type": "markdown",
   "id": "54d0263e",
   "metadata": {},
   "source": [
    "## Question 1."
   ]
  },
  {
   "cell_type": "markdown",
   "id": "4fc20383",
   "metadata": {},
   "source": [
    "1. Login to your Instagram Handle\n",
    "    - Submit with sample username and password"
   ]
  },
  {
   "cell_type": "code",
   "execution_count": 140,
   "id": "37ccf61e",
   "metadata": {},
   "outputs": [],
   "source": [
    "driver.get('https://instagram.com')"
   ]
  },
  {
   "cell_type": "code",
   "execution_count": 141,
   "id": "35514691",
   "metadata": {},
   "outputs": [],
   "source": [
    "insta_username = ''\n",
    "insta_password = ''"
   ]
  },
  {
   "cell_type": "code",
   "execution_count": 142,
   "id": "0be20223",
   "metadata": {},
   "outputs": [],
   "source": [
    "wait = WebDriverWait(driver,5)\n",
    "username=wait.until(EC.presence_of_element_located((By.NAME,'username')))"
   ]
  },
  {
   "cell_type": "code",
   "execution_count": 143,
   "id": "6ab44464",
   "metadata": {},
   "outputs": [],
   "source": [
    "# username = driver.find_element(By.NAME,'username')\n",
    "username.send_keys(insta_username)\n",
    "time.sleep(2)"
   ]
  },
  {
   "cell_type": "code",
   "execution_count": 144,
   "id": "11f27019",
   "metadata": {},
   "outputs": [],
   "source": [
    "password = driver.find_element(By.NAME,'password')\n",
    "password.send_keys(insta_password)\n",
    "time.sleep(2)"
   ]
  },
  {
   "cell_type": "code",
   "execution_count": 145,
   "id": "f2b03eb2",
   "metadata": {},
   "outputs": [],
   "source": [
    "password.submit()\n",
    "time.sleep(5)"
   ]
  },
  {
   "cell_type": "code",
   "execution_count": 146,
   "id": "009aebb1",
   "metadata": {},
   "outputs": [],
   "source": [
    "try:\n",
    "    save_info_btn = wait.until(EC.presence_of_element_located((By.TAG_NAME,'button')))\n",
    "    save_info_btn.click()\n",
    "except:\n",
    "    print(\"Button not found\")"
   ]
  },
  {
   "cell_type": "code",
   "execution_count": 147,
   "id": "249ad2d8",
   "metadata": {},
   "outputs": [],
   "source": [
    "try:\n",
    "    count=0\n",
    "    while True:\n",
    "        count+=1\n",
    "        time.sleep(2)\n",
    "        notifications_btns = wait.until(EC.presence_of_all_elements_located((By.TAG_NAME,'button')))\n",
    "        if(notifications_btns[-1].text=='Not Now'):\n",
    "            notifications_btns[-1].click()\n",
    "            break\n",
    "        if(count==5):\n",
    "            break\n",
    "except:\n",
    "    print(\"Element not found\")"
   ]
  },
  {
   "cell_type": "markdown",
   "id": "6507212a",
   "metadata": {},
   "source": [
    "## Question 2."
   ]
  },
  {
   "cell_type": "markdown",
   "id": "146d2f6a",
   "metadata": {},
   "source": [
    "2. Type for “food” in search bar and print all the names of the Instagram Handles that are displayed in list after typing “food”\n",
    "   - Note : Make sure to avoid printing hashtags"
   ]
  },
  {
   "cell_type": "code",
   "execution_count": 148,
   "id": "7669db9f",
   "metadata": {},
   "outputs": [],
   "source": [
    "search_link = driver.find_elements(By.TAG_NAME,'a')[2]\n",
    "search_link.click()\n",
    "time.sleep(2)\n"
   ]
  },
  {
   "cell_type": "code",
   "execution_count": 149,
   "id": "4443f8f1",
   "metadata": {},
   "outputs": [],
   "source": [
    "searchBox = driver.find_element(By.TAG_NAME,'input')\n",
    "searchBox.send_keys('food')\n",
    "time.sleep(5)"
   ]
  },
  {
   "cell_type": "code",
   "execution_count": 150,
   "id": "9042fe15",
   "metadata": {},
   "outputs": [],
   "source": [
    "instaHandles = driver.find_elements(By.XPATH,'//div[contains(@class , \"_abm4\")]/a')"
   ]
  },
  {
   "cell_type": "code",
   "execution_count": 151,
   "id": "0ff07cdf",
   "metadata": {},
   "outputs": [],
   "source": [
    "foodHandles = []\n",
    "for i in instaHandles:\n",
    "    val = i.get_attribute('href')\n",
    "    if( 'explore' in val):\n",
    "        continue\n",
    "    else:\n",
    "        foodHandles.append(val.split('/')[3])"
   ]
  },
  {
   "cell_type": "code",
   "execution_count": 152,
   "id": "dc36fd5c",
   "metadata": {},
   "outputs": [
    {
     "name": "stdout",
     "output_type": "stream",
     "text": [
      "foodzeee\n",
      "foodofgoa\n",
      "pablo_thefoodcartel\n",
      "foodie_incarnate\n",
      "foo_dieonly\n",
      "food_lunatic\n",
      "food\n",
      "food_and_foodies101\n",
      "foodiesince96\n",
      "foodie_in_delhi\n",
      "gurgaonfoodblog\n",
      "foodiesafarii\n",
      "food_gallery__jabalpur\n",
      "foodsefoodtak5\n",
      "foodislife1406\n",
      "foodiewe\n",
      "food_is_lobe\n",
      "foodzpah\n",
      "foodietale_flavours\n",
      "food_mad101\n",
      "foodloverthailand_515\n",
      "foodiesparsh\n",
      "foodiebyheart2.0\n",
      "delhifoodwalks\n",
      "foodtalkindia\n",
      "foodieswithhoodies\n",
      "food._brand\n",
      "enjoyourdifferences_injp\n",
      "foodgram151\n",
      "food__junction\n",
      "foodie.lover2323\n",
      "foodieforeverandever23\n",
      "foodieme9\n",
      "foodiee__gabbar\n",
      "foodcomics_\n",
      "thegourmet_traveller\n",
      "foodie_siblingzz\n",
      "foodieveggie\n",
      "foodmaniacindia\n",
      "foody.soul\n",
      "thefoodiesexpress\n",
      "foodmapjaipur\n",
      "desi_food_panda\n",
      "foodhallindia\n",
      "foodhunter_sabu\n",
      "delhi_foodgasm\n",
      "streetfoodrecipe\n",
      "kashmirfoodgram\n",
      "foodieshamsi\n",
      "foodbloggerai\n",
      "foodsnapbysakshi\n"
     ]
    }
   ],
   "source": [
    "for i in foodHandles:\n",
    "    print(i)"
   ]
  },
  {
   "cell_type": "markdown",
   "id": "28649248",
   "metadata": {},
   "source": [
    "## Question 3"
   ]
  },
  {
   "cell_type": "markdown",
   "id": "2ff9d60e",
   "metadata": {},
   "source": [
    "3. Searching and Opening a profile using \n",
    "     - Open profile of “So Delhi” "
   ]
  },
  {
   "cell_type": "code",
   "execution_count": 153,
   "id": "aafbc89d",
   "metadata": {},
   "outputs": [],
   "source": [
    "searchBox.clear()\n",
    "searchBox.send_keys('So Delhi')\n",
    "time.sleep(5)"
   ]
  },
  {
   "cell_type": "code",
   "execution_count": 154,
   "id": "4a1df28c",
   "metadata": {},
   "outputs": [],
   "source": [
    "soDelhiHandle = driver.find_element(By.XPATH,'//div[contains(@class , \"_abm4\")]/a')\n",
    "soDelhiHandle.click()\n",
    "time.sleep(5)"
   ]
  },
  {
   "cell_type": "markdown",
   "id": "062a1121",
   "metadata": {},
   "source": [
    "## Question 4"
   ]
  },
  {
   "cell_type": "markdown",
   "id": "4a93f153",
   "metadata": {},
   "source": [
    "4. Follow/Unfollow given handle \n",
    "    - Open the Instagram Handle of “So Delhi”\n",
    "    - Start following it. Print a message if you are already following\n",
    "    - After following, unfollow the instagram handle. Print a message if you have already unfollowed."
   ]
  },
  {
   "cell_type": "code",
   "execution_count": 155,
   "id": "86b286d6",
   "metadata": {},
   "outputs": [],
   "source": [
    "follow_btn = wait.until(EC.presence_of_element_located((By.XPATH,\"//button[contains(@class ,'_aj1-')]\")))\n",
    "follow_btn.click()"
   ]
  },
  {
   "cell_type": "code",
   "execution_count": 156,
   "id": "2f01167d",
   "metadata": {},
   "outputs": [],
   "source": [
    "follow_div = driver.find_element(By.CLASS_NAME,\"_aade\")\n",
    "if(follow_btn.text == 'Following'):\n",
    "    print(\"Following sodelhi\")\n",
    "    follow_btn.click()\n",
    "    time.sleep(2)\n",
    "    unfollow_div = driver.find_elements(By.CLASS_NAME,\"_abm4\")[-1]\n",
    "    unfollow_div.click()\n",
    "    time.sleep(2)"
   ]
  },
  {
   "cell_type": "code",
   "execution_count": 157,
   "id": "eedbeb14",
   "metadata": {},
   "outputs": [
    {
     "name": "stdout",
     "output_type": "stream",
     "text": [
      "Unfollowed sodelhi\n"
     ]
    }
   ],
   "source": [
    "follow_div = driver.find_element(By.CLASS_NAME,\"_aade\")\n",
    "if(follow_btn.text == 'Follow'):\n",
    "    print(\"Unfollowed sodelhi\")"
   ]
  },
  {
   "cell_type": "markdown",
   "id": "0dac313b",
   "metadata": {},
   "source": [
    "## Question 5"
   ]
  },
  {
   "cell_type": "markdown",
   "id": "1ab14044",
   "metadata": {},
   "source": [
    "5. Like/Unlike posts\n",
    "     - Liking the top 30 posts of the ‘dilsefoodie'. Print message if you have already liked it.\n",
    "     - Unliking the top 30 posts of the ‘dilsefoodie’. Print message if you have already unliked it."
   ]
  },
  {
   "cell_type": "code",
   "execution_count": 158,
   "id": "5bfeb75d",
   "metadata": {},
   "outputs": [],
   "source": [
    "driver.get('https://instagram.com/dilsefoodie')"
   ]
  },
  {
   "cell_type": "code",
   "execution_count": 159,
   "id": "82a65bf3",
   "metadata": {},
   "outputs": [],
   "source": [
    "firstPost =  wait.until(EC.presence_of_element_located((By.XPATH,'//article/div/div/div/div/a')))\n",
    "firstPost.click()\n",
    "time.sleep(2)"
   ]
  },
  {
   "cell_type": "code",
   "execution_count": 160,
   "id": "b0de83f5",
   "metadata": {},
   "outputs": [],
   "source": [
    "totalPosts = 30"
   ]
  },
  {
   "cell_type": "code",
   "execution_count": 161,
   "id": "16bbeac2",
   "metadata": {},
   "outputs": [
    {
     "name": "stdout",
     "output_type": "stream",
     "text": [
      "Post Liked  1\n",
      "Post Liked  2\n",
      "Post Liked  3\n",
      "Post Liked  4\n",
      "Post Liked  5\n",
      "Post Liked  6\n",
      "Post Liked  7\n",
      "Post Liked  8\n",
      "Post Liked  9\n",
      "Post Liked  10\n",
      "Post Liked  11\n",
      "Post Liked  12\n",
      "Post Liked  13\n",
      "Post Liked  14\n",
      "Post Liked  15\n",
      "Post Liked  16\n",
      "Post Liked  17\n",
      "Post Liked  18\n",
      "Post Liked  19\n",
      "Post Liked  20\n",
      "Post Liked  21\n",
      "Post Liked  22\n",
      "Post Liked  23\n",
      "Post Liked  24\n",
      "Post Liked  25\n",
      "Post Liked  26\n",
      "Post Liked  27\n",
      "Post Liked  28\n",
      "Post Liked  29\n",
      "Post Liked  30\n"
     ]
    }
   ],
   "source": [
    "count=0\n",
    "while count<totalPosts:\n",
    "    try:\n",
    "        like_svg = driver.find_element(By.CLASS_NAME,\"_abl_\")\n",
    "        like_svg.click()\n",
    "        time.sleep(2)\n",
    "    except:\n",
    "        print(\"Post already liked\")\n",
    "    next_btn = driver.find_element(By.CLASS_NAME,\"_aaqg\")\n",
    "    next_btn.click()\n",
    "    time.sleep(2)\n",
    "    count+=1\n",
    "    print(\"Post Liked \",count)"
   ]
  },
  {
   "cell_type": "code",
   "execution_count": 162,
   "id": "b05b8fec",
   "metadata": {},
   "outputs": [],
   "source": [
    "driver.back()"
   ]
  },
  {
   "cell_type": "code",
   "execution_count": 163,
   "id": "363fdda3",
   "metadata": {},
   "outputs": [],
   "source": [
    "firstPost = driver.find_element(By.XPATH,'//article/div/div/div/div/a')\n",
    "firstPost.click()"
   ]
  },
  {
   "cell_type": "code",
   "execution_count": 164,
   "id": "839792f8",
   "metadata": {},
   "outputs": [
    {
     "name": "stdout",
     "output_type": "stream",
     "text": [
      "Post Disliked 0\n",
      "Post Disliked 1\n",
      "Post Disliked 2\n",
      "Post Disliked 3\n",
      "Post Disliked 4\n",
      "Post Disliked 5\n",
      "Post Disliked 6\n",
      "Post Disliked 7\n",
      "Post Disliked 8\n",
      "Post Disliked 9\n",
      "Post Disliked 10\n",
      "Post Disliked 11\n",
      "Post Disliked 12\n",
      "Post Disliked 13\n",
      "Post Disliked 14\n",
      "Post Disliked 15\n",
      "Post Disliked 16\n",
      "Post Disliked 17\n",
      "Post Disliked 18\n",
      "Post Disliked 19\n",
      "Post Disliked 20\n",
      "Post Disliked 21\n",
      "Post Disliked 22\n",
      "Post Disliked 23\n",
      "Post Disliked 24\n",
      "Post Disliked 25\n",
      "Post Disliked 26\n",
      "Post Disliked 27\n",
      "Post Disliked 28\n",
      "Post Disliked 29\n"
     ]
    }
   ],
   "source": [
    "count=0\n",
    "while count<totalPosts:\n",
    "    try:\n",
    "        like_svg = driver.find_element(By.XPATH,\"//span[contains(@class ,'_aamw')]/button\")\n",
    "        like_svg.click()\n",
    "        time.sleep(2)\n",
    "        print(\"Post Disliked\",count)\n",
    "    except:\n",
    "        print(\"Post already disliked\")\n",
    "    next_btn = driver.find_element(By.CLASS_NAME,\"_aaqg\")\n",
    "    next_btn.click()\n",
    "    time.sleep(2)\n",
    "    count+=1"
   ]
  },
  {
   "cell_type": "code",
   "execution_count": 165,
   "id": "f910ccab",
   "metadata": {},
   "outputs": [],
   "source": [
    "driver.back()"
   ]
  },
  {
   "cell_type": "markdown",
   "id": "2a0866fc",
   "metadata": {},
   "source": [
    "## Question 6"
   ]
  },
  {
   "cell_type": "markdown",
   "id": "52471bd1",
   "metadata": {},
   "source": [
    "6. Extract list of followers\n",
    "    - Extract the usernames of the first 500 followers of ‘foodtalkindia’ and ‘sodelhi’.\n",
    "    - Now print all the followers of “foodtalkindia” that you are following but those who don’t follow you."
   ]
  },
  {
   "cell_type": "code",
   "execution_count": 166,
   "id": "b2e4d229",
   "metadata": {},
   "outputs": [],
   "source": [
    "driver.get('https://instagram.com/foodtalkindia')"
   ]
  },
  {
   "cell_type": "code",
   "execution_count": 167,
   "id": "db8d5b91",
   "metadata": {},
   "outputs": [],
   "source": [
    "followers_links = wait.until(EC.presence_of_all_elements_located((By.CLASS_NAME,\"_a6hd\")))\n",
    "for i in followers_links:\n",
    "    if(\"followers\" in i.text):\n",
    "        i.click()\n",
    "        break"
   ]
  },
  {
   "cell_type": "code",
   "execution_count": 168,
   "id": "ee420929",
   "metadata": {},
   "outputs": [],
   "source": [
    "time.sleep(2)\n",
    "followers= driver.find_elements(By.XPATH,\"//div[contains(@class ,'_aano')]//a\")\n",
    "follower_handles=[]\n",
    "for i in followers:\n",
    "    if (i.text == \"\"):\n",
    "        continue\n",
    "    follower_handles.append(i.text)"
   ]
  },
  {
   "cell_type": "code",
   "execution_count": 169,
   "id": "1be4c9f1",
   "metadata": {},
   "outputs": [
    {
     "name": "stdout",
     "output_type": "stream",
     "text": [
      "sweety_sr__\n",
      "muskaankaur30\n",
      "littlezoon\n",
      "bilalmohd668\n",
      "the_koolest_klub\n",
      "rise_above_hate1493\n",
      "pickachoo__official__1008\n",
      "debarshideb2611\n",
      "pebs1618\n",
      "amritkaur4084\n",
      "aks_capturemoments\n",
      "ashwin_chitte\n",
      "bhumikarana\n",
      "outlivingthedreams\n",
      "daniishhh_____\n",
      "davinder.makeover\n",
      "future____king\n",
      "delhiride\n",
      "dev.sen20\n",
      "jasmeetkaur78843\n",
      "jassisingh7748\n",
      "jhanvi_siinghaniaa\n",
      "jyoti_ahuja_\n",
      "kaushiki.s_ibaarat\n",
      "sheactsforthefuture\n",
      "fazalnida8\n",
      "nitinkumarvaswani\n",
      "nitinmehta35\n",
      "parvinder_luthra\n",
      "pooja.baheti\n",
      "prasanth_singam\n",
      "das_rahul_k\n",
      "rakesh2888\n",
      "saesha_bakes\n",
      "mr_siddh1511\n",
      "simarjassisimran\n",
      "she_travel_crazy\n",
      "suhrudgodbole\n",
      "swetakila\n",
      "tauhidraza_khan\n",
      "varalikarastogi94\n",
      "vidyavinodgautam\n",
      "holyscholes\n",
      "vikalp_shah\n",
      "mr.tomar_____\n",
      "vinayakjain7\n",
      "yogalopolis.the.first\n",
      "mannatsinghofficial_\n",
      "harshitasharma021\n",
      "iuakiratomas\n"
     ]
    }
   ],
   "source": [
    "for i in follower_handles:\n",
    "    print(i)"
   ]
  },
  {
   "cell_type": "code",
   "execution_count": 170,
   "id": "b4b67fdb",
   "metadata": {},
   "outputs": [],
   "source": [
    "driver.get('https://instagram.com/sodelhi')"
   ]
  },
  {
   "cell_type": "code",
   "execution_count": 171,
   "id": "f705ed95",
   "metadata": {},
   "outputs": [],
   "source": [
    "followers_links = wait.until(EC.presence_of_all_elements_located((By.CLASS_NAME,\"_a6hd\")))\n",
    "for i in followers_links:\n",
    "    if(\"followers\" in i.text):\n",
    "        i.click()\n",
    "        break"
   ]
  },
  {
   "cell_type": "code",
   "execution_count": 172,
   "id": "c7e3026d",
   "metadata": {},
   "outputs": [],
   "source": [
    "time.sleep(2)\n",
    "followers= driver.find_elements(By.XPATH,\"//div[contains(@class ,'_aano')]//a\")\n",
    "follower_handles=[]\n",
    "for i in followers:\n",
    "    if (i.text == \"\"):\n",
    "        continue\n",
    "    follower_handles.append(i.text)"
   ]
  },
  {
   "cell_type": "code",
   "execution_count": 173,
   "id": "5bac7df8",
   "metadata": {},
   "outputs": [
    {
     "name": "stdout",
     "output_type": "stream",
     "text": [
      "delhiride\n",
      "tonystart75\n",
      "khushbu358877\n",
      "theclassysharmaa\n",
      "housethat_\n",
      "_harshhh_84\n",
      "neha_2287\n",
      "ankit_rathore_27\n",
      "aadiiil._21\n",
      "i.capture_u\n",
      "mackmohan\n",
      "sunaneka_._\n"
     ]
    }
   ],
   "source": [
    "for i in follower_handles:\n",
    "    print(i)"
   ]
  },
  {
   "cell_type": "markdown",
   "id": "79b29c1d",
   "metadata": {},
   "source": [
    "# Question 7"
   ]
  },
  {
   "cell_type": "markdown",
   "id": "8fcfa941",
   "metadata": {},
   "source": [
    "7. Check the story of ‘coding.ninjas’. Consider the following Scenarios and print error messages accordingly -\n",
    "    - If You have already seen the story.\n",
    "    - Or The user has no story.\n",
    "    - Or View the story if not yet seen."
   ]
  },
  {
   "cell_type": "code",
   "execution_count": 174,
   "id": "8d413534",
   "metadata": {},
   "outputs": [],
   "source": [
    "driver.get('https://instagram.com/coding.ninjas')"
   ]
  },
  {
   "cell_type": "code",
   "execution_count": 175,
   "id": "e4502b32",
   "metadata": {},
   "outputs": [
    {
     "name": "stdout",
     "output_type": "stream",
     "text": [
      "Story Seen\n"
     ]
    }
   ],
   "source": [
    "try:\n",
    "    status_btn=wait.until(EC.element_to_be_clickable((By.XPATH,\"//main/div/header/div/div\")))\n",
    "    innerHTML = status_btn.get_attribute('innerHTML')\n",
    "    \n",
    "    html = BeautifulSoup(innerHTML,'lxml')\n",
    "    height = html.canvas['height']\n",
    "    width = html.canvas['width']\n",
    "    if(height=='208' and width=='208'):\n",
    "        print(\"Story Already Seen\")\n",
    "    else:\n",
    "        status_btn.click()\n",
    "        print('Story Seen')\n",
    "except Exception as e:\n",
    "    print(\"Story Not Available\")"
   ]
  },
  {
   "cell_type": "code",
   "execution_count": null,
   "id": "08df91f3",
   "metadata": {},
   "outputs": [],
   "source": []
  }
 ],
 "metadata": {
  "kernelspec": {
   "display_name": "Python 3 (ipykernel)",
   "language": "python",
   "name": "python3"
  },
  "language_info": {
   "codemirror_mode": {
    "name": "ipython",
    "version": 3
   },
   "file_extension": ".py",
   "mimetype": "text/x-python",
   "name": "python",
   "nbconvert_exporter": "python",
   "pygments_lexer": "ipython3",
   "version": "3.9.13"
  }
 },
 "nbformat": 4,
 "nbformat_minor": 5
}
